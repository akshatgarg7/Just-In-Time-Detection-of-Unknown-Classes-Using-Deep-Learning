{
 "cells": [
  {
   "attachments": {},
   "cell_type": "markdown",
   "id": "57540f8b",
   "metadata": {},
   "source": [
    "### Importing required libaries"
   ]
  },
  {
   "cell_type": "code",
   "execution_count": 12,
   "id": "3f5afef6-f4c2-4d5b-8e26-82004ab78cf6",
   "metadata": {
    "executionInfo": {
     "elapsed": 2284,
     "status": "ok",
     "timestamp": 1676059011499,
     "user": {
      "displayName": "Akshat Garg",
      "userId": "01526156287295178218"
     },
     "user_tz": 300
    },
    "id": "3f5afef6-f4c2-4d5b-8e26-82004ab78cf6"
   },
   "outputs": [],
   "source": [
    "%matplotlib inline\n",
    "\n",
    "import random\n",
    "\n",
    "\n",
    "import torchvision.datasets as datasets\n",
    "import torchvision.transforms as transforms"
   ]
  },
  {
   "cell_type": "code",
   "execution_count": 28,
   "id": "e35147f3",
   "metadata": {},
   "outputs": [],
   "source": [
    "def create_dataloader_with_rotated_images(path,prob,with_replacement=True):\n",
    "    # Define the transformations for resizing and normalization\n",
    "    transformation = transforms.Compose([transforms.Resize((100,100)),\n",
    "                                         transforms.ToTensor(),\n",
    "                                         transforms.Normalize((0.5,), (0.5,))])\n",
    "    \n",
    "    \n",
    "    # Load the original dataset\n",
    "    dataset = datasets.ImageFolder(path, transform=transformation)\n",
    "    \n",
    "    # Create a new dataset with rotated copies of the original images\n",
    "    list_of_degrees = list(range(-30,30,10))\n",
    "    list_of_degrees.pop(0)\n",
    "    rotated_dataset = []\n",
    "    for image, label in dataset:\n",
    "        if random.random()<prob:\n",
    "            rotated_image = transforms.functional.rotate(image, random.choice(list_of_degrees))\n",
    "            rotated_dataset.append((rotated_image, label))\n",
    "        else:\n",
    "            rotated_dataset.append((rotated_image, label))\n",
    "\n",
    "            \n",
    "    if with_replacement:\n",
    "         combined_dataset = dataset + rotated_dataset\n",
    "         return combined_dataset\n",
    "    else:\n",
    "        return rotated_dataset"
   ]
  }
 ],
 "metadata": {
  "accelerator": "GPU",
  "colab": {
   "provenance": []
  },
  "gpuClass": "standard",
  "kernelspec": {
   "display_name": "base",
   "language": "python",
   "name": "python3"
  },
  "language_info": {
   "codemirror_mode": {
    "name": "ipython",
    "version": 3
   },
   "file_extension": ".py",
   "mimetype": "text/x-python",
   "name": "python",
   "nbconvert_exporter": "python",
   "pygments_lexer": "ipython3",
   "version": "3.9.15"
  },
  "vscode": {
   "interpreter": {
    "hash": "1ff262b1c30271cc97db05e41bc3fbf8dcb2f3d49b2a4289d3b890287f11ec8d"
   }
  }
 },
 "nbformat": 4,
 "nbformat_minor": 5
}
