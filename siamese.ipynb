{
 "cells": [
  {
   "cell_type": "code",
   "execution_count": 25,
   "id": "a010fa34",
   "metadata": {},
   "outputs": [],
   "source": [
    "#Importing libraries\n",
    "import matplotlib.pyplot as plt\n",
    "from PIL import Image\n",
    "import numpy as np\n",
    "import os\n",
    "import tensorflow as tf\n",
    "import keras\n",
    "from keras.layers import Input, Conv2D, Lambda, Dense, Flatten,MaxPooling2D\n",
    "from keras.models import Model, Sequential\n",
    "from keras.regularizers import l2\n",
    "from keras import backend as K\n",
    "from keras.optimizers import SGD,Adam\n",
    "from keras.losses import binary_crossentropy\n",
    "from keras.utils import plot_model"
   ]
  },
  {
   "cell_type": "code",
   "execution_count": 26,
   "id": "a1226f32",
   "metadata": {},
   "outputs": [],
   "source": [
    "# !pip install pydot\n",
    "# !pip install plot-model"
   ]
  },
  {
   "cell_type": "markdown",
   "id": "ea90d7ec",
   "metadata": {},
   "source": [
    "# Standard Classification vs One Shot Learning"
   ]
  },
  {
   "cell_type": "markdown",
   "id": "ecef7807",
   "metadata": {},
   "source": [
    "## Standard Classification"
   ]
  },
  {
   "cell_type": "markdown",
   "id": "6542b51a",
   "metadata": {},
   "source": [
    "The input image is fed through a number of layers in the case of standard classification, and at the output, it produces a probability distribution over all the classes (typically using a Softmax). \n",
    "Each input image constructs n probabilities, each representing the likelihood that the image belongs to one of the 10 classes—for instance, apple, banana, orange, or blueberry. \n",
    "Here, two crucial things need to be noted. \n",
    "First, for each class/fruit, we need a lot of photographs during the training process.\n",
    "Second, we cannot expect to test the network on any other class, for instance \"avocado\" if it has only been trained on the 10 classes of photos not including. We must first gather a large number of avocado photographs before retraining the model if we want it to classify zebra avocado as well. In our application, automotiva part, we don't have enough data for every class, and there are a lot of classes that are constantly changing. Data gathering and regular retraining are therefore prohibitively expensive. A one-shot classification, on the other hand, can have even one training example for each class. That's why it is calles one-shot"
   ]
  },
  {
   "cell_type": "markdown",
   "id": "1aee3a74",
   "metadata": {},
   "source": [
    "## One shot classification"
   ]
  },
  {
   "cell_type": "code",
   "execution_count": 27,
   "id": "92ae0b86",
   "metadata": {},
   "outputs": [],
   "source": [
    "import glob\n",
    "import os\n",
    "\n",
    "def listdir_nohidden(path):\n",
    "    \"\"\"The following function get items i the folder\n",
    "    add them to the relative path,\"\"\"\n",
    "    return glob.glob(os.path.join(path, '*'))"
   ]
  },
  {
   "cell_type": "markdown",
   "id": "c893df98",
   "metadata": {},
   "source": [
    "We compute the similarity scores between photographs of various classes rather than utilizing enormous amounts of data for each class. Two photos, either from the same class or another, will constitute the input to this network. The result will be a number4 between 0 and 1, with 1 signifying that the two photos belong to the same class and 0 signifying that they do not."
   ]
  },
  {
   "cell_type": "code",
   "execution_count": 28,
   "id": "d6685881",
   "metadata": {},
   "outputs": [
    {
     "name": "stdout",
     "output_type": "stream",
     "text": [
      "131 fruits found in the dataset\n",
      "X, Y shape (1310, 100, 100, 3) (1310,) (131, 10)\n"
     ]
    }
   ],
   "source": [
    "base_dir = r'/Users/vazgen/Desktop/capstone/Dev/datasets/fruit/fruits-360/360/Training'\n",
    "train_test_split = 0.8 ##80 percent of the data will be in training split\n",
    "no_of_files_in_each_class = 10\n",
    "\n",
    "#Read all the folders in the directory\n",
    "folder_list = listdir_nohidden(base_dir)\n",
    "print( len(folder_list), \"fruits found in the dataset\")\n",
    "\n",
    "#Declare training array\n",
    "cat_list = []\n",
    "x = []\n",
    "y = []\n",
    "y_label = 0\n",
    "\n",
    "#Using just 10 images per category\n",
    "for folder_name in folder_list:\n",
    "    files_list = listdir_nohidden(os.path.join(base_dir, folder_name))\n",
    "    temp=[]\n",
    "    for file_name in files_list[:no_of_files_in_each_class]:\n",
    "        temp.append(len(x))\n",
    "        x.append(np.asarray(Image.open(os.path.join(base_dir, folder_name, file_name)).convert('RGB').resize((100, 100))))\n",
    "        y.append(y_label)\n",
    "    y_label+=1\n",
    "    cat_list.append(temp)\n",
    "\n",
    "cat_list = np.asarray(cat_list)\n",
    "x = np.asarray(x)/255.0\n",
    "y = np.asarray(y)\n",
    "label_names = [i.split('/')[-1].replace(\" \",\"_\") for i in folder_list]\n",
    "print('X, Y shape',x.shape, y.shape, cat_list.shape) "
   ]
  },
  {
   "cell_type": "code",
   "execution_count": 30,
   "id": "87a88ceb",
   "metadata": {},
   "outputs": [],
   "source": [
    "dct_for_mapping = {}\n",
    "for i,j in zip(cat_list,label_names):\n",
    "    for pic in i:\n",
    "        dct_for_mapping[pic]=j"
   ]
  },
  {
   "cell_type": "markdown",
   "id": "039c47f6",
   "metadata": {},
   "source": [
    "- Line 1: Including the base directory of the dataset\n",
    "- Line 2: Indicate the percentage that is going to be used for training. The rest will be used for testing\n",
    "- Line 3: Since Fruits 360 is a dataset for Image classification, It has a lot of images per category. But for our experiment, a small portion is enough.\n",
    "- Line 6: Get the list of directories from the folder. Each folder contains of particular image\n",
    "- Line 10–13: Declare three empty lists to record X(images), y(labels), cat_list(To record the category of each image)\n",
    "- Line 16–24: Iterate over the class folders and select ten images from each of the class, convert them to RGB format and append them to a list. keep a record of the class of the image in cat_list[] for further reference\n",
    "- Line 26–28: Convert all the list to NumPy arrays. As any image will range from 0–255, divide the array x by 255 - for simplification"
   ]
  },
  {
   "cell_type": "code",
   "execution_count": 31,
   "id": "69414960",
   "metadata": {
    "scrolled": true
   },
   "outputs": [
    {
     "name": "stdout",
     "output_type": "stream",
     "text": [
      "104 classes for training and 27  classes for testing\n",
      "X&Y shape of training data : (1040, 100, 100, 3) and (1040,) (104, 10)\n",
      "X&Y shape of testing data : (270, 100, 100, 3) and (270,) (27, 10)\n"
     ]
    }
   ],
   "source": [
    "train_size = int(len(folder_list)*train_test_split)\n",
    "test_size = len(folder_list) - train_size\n",
    "print(train_size, 'classes for training and', test_size, ' classes for testing')\n",
    "\n",
    "train_files = train_size * no_of_files_in_each_class\n",
    "\n",
    "#Training Split\n",
    "x_train = x[:train_files]\n",
    "y_train = y[:train_files]\n",
    "cat_train = cat_list[:train_size]\n",
    "\n",
    "#Validation Split\n",
    "x_val = x[train_files:]\n",
    "y_val = y[train_files:]\n",
    "cat_test = cat_list[train_size:]\n",
    "\n",
    "print('X&Y shape of training data :',x_train.shape, 'and', y_train.shape, cat_train.shape)\n",
    "print('X&Y shape of testing data :' , x_val.shape, 'and', y_val.shape, cat_test.shape)\n"
   ]
  },
  {
   "cell_type": "markdown",
   "id": "b1cfb399",
   "metadata": {},
   "source": [
    "- Line 1: Calculate the number of classes that will be used for training by multiplying with the train_test_split\n",
    "- Line 2: Subtract train_size from the total classes available to get the test_size\n",
    "- Line 4: Multiply train_size with the number of files in each class to get the total number of training files\n",
    "- Line 7–15: Use the value calculated before to subset X, Y and cat_list"
   ]
  },
  {
   "cell_type": "markdown",
   "id": "806040c2",
   "metadata": {},
   "source": [
    "# Generating Batch"
   ]
  },
  {
   "cell_type": "markdown",
   "id": "6ea3ab1a",
   "metadata": {},
   "source": [
    "In this section we generate batches for training. An X and Y should be present in the batch files. If the batch size is 64 and the picture size is (100, 100, 3), then the size of X would be a list of size 64 and each element in the list would be of size (100, 100, 3).\n",
    "\n",
    "Given that we had two inputs, there would be a list (let's call it \"A\") of size 64 and each element would have a list (let's call it \"B\") of length 2 and a size of 64 in \"A.\" (100, 100, 3). We'll create a batch for training so that for half the input pairings, B[0] and B[1]"
   ]
  },
  {
   "cell_type": "code",
   "execution_count": 32,
   "id": "c9016ba2",
   "metadata": {},
   "outputs": [],
   "source": [
    "def get_batch(batch_size=64):\n",
    "    \"\"\"Generating batches\"\"\"\n",
    "    temp_x = x_train\n",
    "    temp_cat_list = cat_train\n",
    "    start=0\n",
    "    end=train_size\n",
    "    batch_x=[]\n",
    "        \n",
    "    batch_y = np.zeros(batch_size)\n",
    "    batch_y[int(batch_size/2):] = 1\n",
    "    np.random.shuffle(batch_y)\n",
    "    \n",
    "    class_list = np.random.randint(start, end, batch_size) \n",
    "    batch_x.append(np.zeros((batch_size, 100, 100, 3)))\n",
    "    batch_x.append(np.zeros((batch_size, 100, 100, 3)))\n",
    "\n",
    "    for i in range(0, batch_size):\n",
    "        batch_x[0][i] = temp_x[np.random.choice(temp_cat_list[class_list[i]])]  \n",
    "        #If train_y has 0 pick from the same class, else pick from any other class\n",
    "        if batch_y[i]==0:\n",
    "            batch_x[1][i] = temp_x[np.random.choice(temp_cat_list[class_list[i]])]\n",
    "\n",
    "        else:\n",
    "            temp_list = np.append(temp_cat_list[:class_list[i]].flatten(), temp_cat_list[class_list[i]+1:].flatten())\n",
    "            batch_x[1][i] = temp_x[np.random.choice(temp_list)]\n",
    "            \n",
    "    return(batch_x, batch_y)"
   ]
  },
  {
   "cell_type": "markdown",
   "id": "0bbff024",
   "metadata": {},
   "source": [
    "- Line 3–7: Store the values of x_train, cat_train and the start and end size of training size in a temporary variables\n",
    "- Line 9–11: Assigning half of the batch_size of Y as 0 and others as 1\n",
    "- Line 13: Generate a random list of classes from the training category list to be used. Also, append two arrays of image_size*batch_size\n",
    "- Line 17–25: For each iteration, In case of batch_x[0] select an image from the category specified in the class list. For batch_x[1] select an image from the same category if y[i] is 0, else select batch_x[1] from any other category except for the same one"
   ]
  },
  {
   "cell_type": "markdown",
   "id": "a323ec9b",
   "metadata": {},
   "source": [
    "# Architecture"
   ]
  },
  {
   "cell_type": "markdown",
   "id": "59c9216c",
   "metadata": {},
   "source": [
    "A CNN model consists of a number of convolutional and pooling layers, several dense layers, and an output layer that most often has a softmax function. Here, the softmax layer is in charge of supplying a range of probabilities for each class while the convolutional layers are in charge of extracting features from the picture. The class of the image with the highest probability value is then selected.For activation functions we use sigmoid"
   ]
  },
  {
   "cell_type": "markdown",
   "id": "bcfaecd9",
   "metadata": {},
   "source": [
    "$Softmax: \\sigma(z_i) = \\frac{e^{z_{i}}}{\\sum_{j=1}^K e^{z_{j}}} \\ \\ \\ for\\ i=1,2,\\dots,K $<br>\n",
    "$Sigmoid: \\sigma(z) = \\frac{1} {1 + e^{-z}} $"
   ]
  },
  {
   "cell_type": "code",
   "execution_count": 33,
   "id": "b2584fc4",
   "metadata": {},
   "outputs": [
    {
     "data": {
      "image/png": "[encoded data removed]",
      "text/plain": [
       "<IPython.core.display.Image object>"
      ]
     },
     "execution_count": 33,
     "metadata": {},
     "output_type": "execute_result"
    }
   ],
   "source": [
    "from IPython.display import Image\n",
    "Image(\"fig1.png\")"
   ]
  },
  {
   "cell_type": "code",
   "execution_count": 34,
   "id": "0cdf218d",
   "metadata": {
    "scrolled": true
   },
   "outputs": [
    {
     "name": "stderr",
     "output_type": "stream",
     "text": [
      "/Users/vazgen/miniforge3/envs/DLP/lib/python3.10/site-packages/keras/initializers/initializers_v2.py:120: UserWarning: The initializer RandomNormal is unseeded and being called multiple times, which will return identical values  each time (even if the initializer is unseeded). Please update your code to provide a seed to the initializer, or avoid using the same initalizer instance more than once.\n",
      "  warnings.warn(\n"
     ]
    },
    {
     "data": {
      "image/png": "[encoded data removed]",
      "text/plain": [
       "<IPython.core.display.Image object>"
      ]
     },
     "execution_count": 34,
     "metadata": {},
     "output_type": "execute_result"
    }
   ],
   "source": [
    "##see the comments below\n",
    "#Building a sequential model\n",
    "input_shape=(100, 100, 3)\n",
    "left_input = Input(input_shape)\n",
    "right_input = Input(input_shape)\n",
    "W_init = keras.initializers.RandomNormal(mean = 0.0, stddev = 1e-2)\n",
    "b_init = keras.initializers.RandomNormal(mean = 0.5, stddev = 1e-2)\n",
    "\n",
    "model = keras.models.Sequential([\n",
    "    keras.layers.Conv2D(64, (10,10), activation='relu', input_shape=input_shape, kernel_initializer=W_init, bias_initializer=b_init, kernel_regularizer=l2(2e-4)),\n",
    "    keras.layers.MaxPooling2D(2, 2),\n",
    "    keras.layers.Conv2D(128, (7,7), activation='relu', kernel_initializer=W_init, bias_initializer=b_init, kernel_regularizer=l2(2e-4)),\n",
    "    keras.layers.MaxPooling2D(2,2),\n",
    "    keras.layers.Conv2D(128, (4,4), activation='relu', kernel_initializer=W_init, bias_initializer=b_init, kernel_regularizer=l2(2e-4)),\n",
    "    keras.layers.MaxPooling2D(2,2),\n",
    "    keras.layers.Conv2D(256, (4,4), activation='relu', kernel_initializer=W_init, bias_initializer=b_init, kernel_regularizer=l2(2e-4)),\n",
    "    keras.layers.MaxPooling2D(2,2),\n",
    "    keras.layers.Flatten(),\n",
    "    keras.layers.Dense(4096, activation='sigmoid', kernel_initializer=W_init, bias_initializer=b_init)\n",
    "])\n",
    "\n",
    "encoded_l = model(left_input)\n",
    "encoded_r = model(right_input)\n",
    "\n",
    "subtracted = keras.layers.Subtract()([encoded_l, encoded_r])\n",
    "prediction = Dense(1, activation='sigmoid', bias_initializer=b_init)(subtracted)\n",
    "siamese_net = Model(inputs=[left_input, right_input], outputs=prediction)\n",
    "\n",
    "optimizer= Adam(learning_rate=0.0001)\n",
    "siamese_net.compile(loss='binary_crossentropy', optimizer=optimizer)\n",
    "\n",
    "plot_model(siamese_net, show_shapes=True, show_layer_names=True)"
   ]
  },
  {
   "cell_type": "markdown",
   "id": "1f8fa104",
   "metadata": {},
   "source": [
    "- Line 1: Declare the shape of the input image.\n",
    "- Line 2: Declare two inputs with the shape of the image.\n",
    "- Line 6–7: Declare parameters for initializing weight and bias of the network. The values are chosen as described in the paper.\n",
    "- Line 9–20: Declare a Sequential model with 4 convolutional layers and max-pooling layers. Use a flattening layer at last followed by a dense layer.\n",
    "- Line 22–23: Pass both the inputs to the same model.\n",
    "- Line 25–27: Subtract the dense layers from both the images and pass it through a single neuron with a sigmoid activation function.\n",
    "- Line 29–30: Compile the model with loss as ‘binary_cross_entropy’ and ‘Adam’ optimizer.\n",
    "- Line 32: The plot model function for siamese_net outputs the following."
   ]
  },
  {
   "cell_type": "markdown",
   "id": "ff86696c",
   "metadata": {},
   "source": [
    "# N-way one-shot Learning"
   ]
  },
  {
   "cell_type": "markdown",
   "id": "cc71fc13",
   "metadata": {},
   "source": [
    "We choose 'n' input pairs such that only one input pair belongs to the same category and the others are all from distinct ones. This is a procedure of confirming one-shot learning. \n",
    "In the case of a nine-way one-shot validation where each input to the network requires two photos, x[0] is constant across all nine pairings, x[1] only falls under the same category as x[0] across one out of every nine pairs, and x[1] is different across the other eight. \n",
    "If all nine pairs are provided to the model, it is anticipated that the pair that falls under the same category would have the pair's lowest value. \n",
    "We consider it a successful forecast in this scenario.\n",
    "The number of steps in validation is indicated by the input parameter n val. \n",
    "The number of ways for each stage of validation is indicated by the term \"n way.\" \n",
    "Keep in mind that x[0] remains constant during all validation steps.\n"
   ]
  },
  {
   "cell_type": "code",
   "execution_count": 35,
   "id": "b5cd29f5",
   "metadata": {},
   "outputs": [],
   "source": [
    "def nway_one_shot(model, n_way, n_val):\n",
    "    \"\"\"Perform n_way classification\"\"\"\n",
    "    temp_x = x_val \n",
    "    temp_cat_list = cat_test\n",
    "    batch_x=[]\n",
    "    x_0_choice=[]\n",
    "    n_correct = 0\n",
    "   \n",
    "    class_list = np.random.randint(train_size+1, len(folder_list)-1, n_val)##5-hat category random\n",
    "\n",
    "    for i in class_list:  \n",
    "        j = np.random.choice(cat_list[i])#j is a picture\n",
    "        print(j.shape)\n",
    "        \n",
    "        temp=[]\n",
    "        temp.append(np.zeros((n_way, 100, 100, 3)))\n",
    "        temp.append(np.zeros((n_way, 100, 100, 3)))\n",
    "        #2hat oakan vector\n",
    "        for k in range(0, n_way):\n",
    "            temp[0][k] = x[j]\n",
    "            \n",
    "            if k==0:\n",
    "#                 print(i, k, j, np.random.choice(cat_list[i]))\n",
    "                temp[1][k] = x[np.random.choice(cat_list[i])]\n",
    "            else:\n",
    "#                 print(i, k, j, np.random.choice(np.append(cat_list[:i].flatten(), cat_list[i+1:].flatten())))\n",
    "                temp[1][k] = x[np.random.choice(np.append(cat_list[:i].flatten(), cat_list[i+1:].flatten()))]\n",
    "\n",
    "        result = siamese_net.predict(temp)\n",
    "        result = result.flatten().tolist()\n",
    "        result_index = result.index(min(result))\n",
    "        if result_index == 0:\n",
    "            n_correct = n_correct + 1\n",
    "    print(n_correct, \"correctly classified among\", n_val)\n",
    "    accuracy = (n_correct*100)/n_val\n",
    "    return accuracy"
   ]
  },
  {
   "cell_type": "markdown",
   "id": "eae8fa94",
   "metadata": {},
   "source": [
    "- Line 3–7: Store x_val, cat_test in a temporary variable\n",
    "- Line 9: This is the same as Line 13 in the batch generation, except we create a batch of random categories from the test set\n",
    "- Line 11–24: For each validation step, we iterate through the n_way, take the corresponding category list from class_list, pick an image from that category and store it in x[0]. For x[1] select an image from the same category if it is the first iteration, and select from a different category for others. This inner loop is almost the same as batch_generation() method discussed above.\n",
    "- Line 26–31: For each of the validation step, predict the output using the model and check if result[0] has the minimum value compared to others. Note that the result array will be a list of size n_way. If yes add 1 to n_correct. Repeat the same for all other validation steps.\n",
    "- Line 32: Calculate the accuracy using n_correct and the number of validation steps."
   ]
  },
  {
   "cell_type": "code",
   "execution_count": 36,
   "id": "69b7d566",
   "metadata": {},
   "outputs": [
    {
     "name": "stdout",
     "output_type": "stream",
     "text": [
      "[PhysicalDevice(name='/physical_device:CPU:0', device_type='CPU'), PhysicalDevice(name='/physical_device:GPU:0', device_type='GPU')]\n"
     ]
    }
   ],
   "source": [
    "#seeing available GPUs\n",
    "devices = tf.config.list_physical_devices()\n",
    "print(devices)"
   ]
  },
  {
   "cell_type": "code",
   "execution_count": 37,
   "id": "00779efe",
   "metadata": {},
   "outputs": [],
   "source": [
    "tf.debugging.set_log_device_placement(True)"
   ]
  },
  {
   "cell_type": "markdown",
   "id": "3476b79e",
   "metadata": {},
   "source": [
    "# Training a model"
   ]
  },
  {
   "cell_type": "code",
   "execution_count": 38,
   "id": "8b9ca230",
   "metadata": {},
   "outputs": [
    {
     "name": "stdout",
     "output_type": "stream",
     "text": [
      "Num GPUs Available:  1\n"
     ]
    }
   ],
   "source": [
    "import tensorflow as tf\n",
    "print(\"Num GPUs Available: \", len(tf.config.experimental.list_physical_devices('GPU')))"
   ]
  },
  {
   "cell_type": "code",
   "execution_count": 39,
   "id": "af76958b",
   "metadata": {},
   "outputs": [
    {
     "data": {
      "text/plain": [
       "[PhysicalDevice(name='/physical_device:GPU:0', device_type='GPU')]"
      ]
     },
     "execution_count": 39,
     "metadata": {},
     "output_type": "execute_result"
    }
   ],
   "source": [
    "tf.config.experimental.list_physical_devices('GPU')"
   ]
  },
  {
   "cell_type": "code",
   "execution_count": 40,
   "id": "e963ca75",
   "metadata": {},
   "outputs": [
    {
     "name": "stderr",
     "output_type": "stream",
     "text": [
      "2022-12-10 21:56:46.270550: W tensorflow/core/platform/profile_utils/cpu_utils.cc:128] Failed to get CPU frequency: 0 Hz\n",
      "2022-12-10 21:56:46.270886: I tensorflow/core/grappler/optimizers/custom_graph_optimizer_registry.cc:114] Plugin optimizer for device_type GPU is enabled.\n"
     ]
    },
    {
     "name": "stdout",
     "output_type": "stream",
     "text": [
      "=============================================\n",
      "()\n",
      "1/1 [==============================] - 0s 107ms/step\n",
      "()\n",
      "1/1 [==============================] - 0s 14ms/step\n",
      "()\n",
      "1/1 [==============================] - 0s 14ms/step\n",
      "()\n",
      "1/1 [==============================] - 0s 13ms/step\n"
     ]
    },
    {
     "name": "stderr",
     "output_type": "stream",
     "text": [
      "2022-12-10 21:58:30.216131: I tensorflow/core/grappler/optimizers/custom_graph_optimizer_registry.cc:114] Plugin optimizer for device_type GPU is enabled.\n"
     ]
    },
    {
     "name": "stdout",
     "output_type": "stream",
     "text": [
      "()\n",
      "1/1 [==============================] - 0s 13ms/step\n",
      "()\n",
      "1/1 [==============================] - 0s 13ms/step\n",
      "()\n",
      "1/1 [==============================] - 0s 13ms/step\n",
      "()\n",
      "1/1 [==============================] - 0s 13ms/step\n",
      "()\n",
      "1/1 [==============================] - 0s 12ms/step\n",
      "()\n",
      "1/1 [==============================] - 0s 12ms/step\n",
      "()\n",
      "1/1 [==============================] - 0s 12ms/step\n",
      "()\n",
      "1/1 [==============================] - 0s 13ms/step\n",
      "()\n",
      "1/1 [==============================] - 0s 13ms/step\n",
      "()\n",
      "1/1 [==============================] - 0s 13ms/step\n",
      "()\n",
      "1/1 [==============================] - 0s 13ms/step\n",
      "()\n",
      "1/1 [==============================] - 0s 13ms/step\n",
      "()\n",
      "1/1 [==============================] - 0s 12ms/step\n",
      "()\n",
      "1/1 [==============================] - 0s 13ms/step\n",
      "()\n",
      "1/1 [==============================] - 0s 17ms/step\n",
      "()\n",
      "1/1 [==============================] - 0s 15ms/step\n",
      "()\n",
      "1/1 [==============================] - 0s 28ms/step\n",
      "()\n",
      "1/1 [==============================] - 0s 15ms/step\n",
      "()\n",
      "1/1 [==============================] - 0s 14ms/step\n",
      "()\n",
      "1/1 [==============================] - 0s 14ms/step\n",
      "()\n",
      "1/1 [==============================] - 0s 14ms/step\n",
      "()\n",
      "1/1 [==============================] - 0s 13ms/step\n",
      "()\n",
      "1/1 [==============================] - 0s 14ms/step\n",
      "()\n",
      "1/1 [==============================] - 0s 15ms/step\n",
      "()\n",
      "1/1 [==============================] - 0s 14ms/step\n",
      "()\n",
      "1/1 [==============================] - 0s 13ms/step\n",
      "()\n",
      "1/1 [==============================] - 0s 13ms/step\n",
      "()\n",
      "1/1 [==============================] - 0s 14ms/step\n",
      "()\n",
      "1/1 [==============================] - 0s 14ms/step\n",
      "()\n",
      "1/1 [==============================] - 0s 13ms/step\n",
      "()\n",
      "1/1 [==============================] - 0s 13ms/step\n",
      "()\n",
      "1/1 [==============================] - 0s 35ms/step\n",
      "()\n",
      "1/1 [==============================] - 0s 14ms/step\n",
      "()\n",
      "1/1 [==============================] - 0s 14ms/step\n",
      "()\n",
      "1/1 [==============================] - 0s 13ms/step\n",
      "()\n",
      "1/1 [==============================] - 0s 14ms/step\n",
      "()\n",
      "1/1 [==============================] - 0s 13ms/step\n",
      "()\n",
      "1/1 [==============================] - 0s 14ms/step\n",
      "()\n",
      "1/1 [==============================] - 0s 13ms/step\n",
      "()\n",
      "1/1 [==============================] - 0s 12ms/step\n",
      "()\n",
      "1/1 [==============================] - 0s 12ms/step\n",
      "()\n",
      "1/1 [==============================] - 0s 13ms/step\n",
      "()\n",
      "1/1 [==============================] - 0s 13ms/step\n",
      "()\n",
      "1/1 [==============================] - 0s 13ms/step\n",
      "()\n",
      "1/1 [==============================] - 0s 13ms/step\n",
      "()\n",
      "1/1 [==============================] - 0s 14ms/step\n",
      "()\n",
      "1/1 [==============================] - 0s 12ms/step\n",
      "()\n",
      "1/1 [==============================] - 0s 14ms/step\n",
      "()\n",
      "1/1 [==============================] - 0s 13ms/step\n",
      "()\n",
      "1/1 [==============================] - 0s 13ms/step\n",
      "()\n",
      "1/1 [==============================] - 0s 13ms/step\n",
      "()\n",
      "1/1 [==============================] - 0s 12ms/step\n",
      "()\n",
      "1/1 [==============================] - 0s 13ms/step\n",
      "()\n",
      "1/1 [==============================] - 0s 13ms/step\n",
      "()\n",
      "1/1 [==============================] - 0s 13ms/step\n",
      "()\n",
      "1/1 [==============================] - 0s 13ms/step\n",
      "()\n",
      "1/1 [==============================] - 0s 13ms/step\n",
      "()\n",
      "1/1 [==============================] - 0s 13ms/step\n",
      "()\n",
      "1/1 [==============================] - 0s 14ms/step\n",
      "()\n",
      "1/1 [==============================] - 0s 12ms/step\n",
      "()\n",
      "1/1 [==============================] - 0s 13ms/step\n",
      "()\n",
      "1/1 [==============================] - 0s 13ms/step\n",
      "()\n",
      "1/1 [==============================] - 0s 13ms/step\n",
      "()\n",
      "1/1 [==============================] - 0s 13ms/step\n",
      "()\n",
      "1/1 [==============================] - 0s 12ms/step\n",
      "()\n",
      "1/1 [==============================] - 0s 13ms/step\n",
      "()\n",
      "1/1 [==============================] - 0s 13ms/step\n",
      "()\n",
      "1/1 [==============================] - 0s 13ms/step\n",
      "()\n",
      "1/1 [==============================] - 0s 13ms/step\n",
      "()\n",
      "1/1 [==============================] - 0s 15ms/step\n",
      "()\n",
      "1/1 [==============================] - 0s 14ms/step\n",
      "()\n",
      "1/1 [==============================] - 0s 14ms/step\n",
      "()\n",
      "1/1 [==============================] - 0s 14ms/step\n",
      "()\n",
      "1/1 [==============================] - 0s 14ms/step\n",
      "()\n",
      "1/1 [==============================] - 0s 13ms/step\n",
      "()\n",
      "1/1 [==============================] - 0s 13ms/step\n",
      "()\n",
      "1/1 [==============================] - 0s 13ms/step\n",
      "()\n",
      "1/1 [==============================] - 0s 13ms/step\n",
      "()\n",
      "1/1 [==============================] - 0s 13ms/step\n",
      "()\n",
      "1/1 [==============================] - 0s 13ms/step\n",
      "()\n",
      "1/1 [==============================] - 0s 14ms/step\n",
      "()\n",
      "1/1 [==============================] - 0s 13ms/step\n",
      "()\n",
      "1/1 [==============================] - 0s 13ms/step\n",
      "()\n",
      "1/1 [==============================] - 0s 12ms/step\n",
      "()\n",
      "1/1 [==============================] - 0s 13ms/step\n",
      "()\n",
      "1/1 [==============================] - 0s 13ms/step\n",
      "()\n",
      "1/1 [==============================] - 0s 16ms/step\n",
      "()\n",
      "1/1 [==============================] - 0s 14ms/step\n",
      "()\n",
      "1/1 [==============================] - 0s 14ms/step\n",
      "()\n",
      "1/1 [==============================] - 0s 14ms/step\n",
      "()\n",
      "1/1 [==============================] - 0s 13ms/step\n",
      "()\n",
      "1/1 [==============================] - 0s 13ms/step\n",
      "()\n",
      "1/1 [==============================] - 0s 13ms/step\n",
      "()\n",
      "1/1 [==============================] - 0s 14ms/step\n",
      "()\n",
      "1/1 [==============================] - 0s 13ms/step\n",
      "()\n",
      "1/1 [==============================] - 0s 13ms/step\n",
      "9 correctly classified among 100\n",
      "Epoch: 250 , Loss: 0.7266315817832947\n",
      "Accuracy as of 250 epochs: 9.0\n",
      "=============================================\n"
     ]
    }
   ],
   "source": [
    "with tf.device('/GPU'):\n",
    "    epochs = 300\n",
    "    n_way = 10\n",
    "    n_val = 100\n",
    "    batch_size = 128\n",
    "    \n",
    "    loss_list=[]\n",
    "    accuracy_list=[]\n",
    "    for epoch in range(1,epochs):\n",
    "        batch_x, batch_y = get_batch(batch_size)\n",
    "        loss = siamese_net.train_on_batch(batch_x, batch_y)\n",
    "        loss_list.append((epoch,loss))\n",
    "        if epoch%250 == 0:\n",
    "            print(\"=============================================\")\n",
    "            accuracy = nway_one_shot(siamese_net, n_way, n_val)\n",
    "            accuracy_list.append((epoch, accuracy))\n",
    "            print('Epoch:', epoch, ', Loss:',loss)\n",
    "            print('Accuracy as of', epoch, 'epochs:', accuracy)\n",
    "            print(\"=============================================\")\n",
    "            if(accuracy>99):\n",
    "                print(\"Achieved more than 90% Accuracy\")"
   ]
  },
  {
   "cell_type": "code",
   "execution_count": 41,
   "id": "e5aead27",
   "metadata": {},
   "outputs": [
    {
     "name": "stdout",
     "output_type": "stream",
     "text": [
      "ERROR: unknown command \"install --upgrade\"\n",
      "ERROR: unknown command \"install --user\" - maybe you meant \"install\"\n"
     ]
    }
   ],
   "source": [
    "\n",
    "\n",
    "!pip install --user pipenv"
   ]
  },
  {
   "cell_type": "code",
   "execution_count": 42,
   "id": "7158d0ee",
   "metadata": {},
   "outputs": [
    {
     "name": "stdout",
     "output_type": "stream",
     "text": [
      "ERROR: unknown command \"install --upgrade\"\r\n"
     ]
    }
   ],
   "source": [
    "!pip install --upgrade setuptools wheel"
   ]
  },
  {
   "cell_type": "code",
   "execution_count": null,
   "id": "63a86063",
   "metadata": {},
   "outputs": [],
   "source": []
  }
 ],
 "metadata": {
  "kernelspec": {
   "display_name": "Python 3.10.6 (DLP)",
   "language": "python",
   "name": "dlp"
  },
  "language_info": {
   "codemirror_mode": {
    "name": "ipython",
    "version": 3
   },
   "file_extension": ".py",
   "mimetype": "text/x-python",
   "name": "python",
   "nbconvert_exporter": "python",
   "pygments_lexer": "ipython3",
   "version": "3.10.6"
  }
 },
 "nbformat": 4,
 "nbformat_minor": 5
}
