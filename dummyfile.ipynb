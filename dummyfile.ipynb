{
 "cells": [
  {
   "cell_type": "code",
   "execution_count": 4,
   "metadata": {},
   "outputs": [
    {
     "name": "stdout",
     "output_type": "stream",
     "text": [
      "4524Q: 75 images\n",
      "4515Q: 75 images\n",
      "4718Q: 75 images\n",
      "4707Q: 75 images\n",
      "4725E: 75 images\n",
      "4729E: 75 images\n"
     ]
    }
   ],
   "source": [
    "import os\n",
    "import glob\n",
    "\n",
    "train_dir = 'data/brake shoe/train'\n",
    "\n",
    "# Iterate through each subdirectory in the train directory\n",
    "for subdir in os.listdir(train_dir):\n",
    "    subdir_path = os.path.join(train_dir, subdir)\n",
    "\n",
    "    # Check if it's a directory\n",
    "    if os.path.isdir(subdir_path):\n",
    "        # Use glob to find image files (JPEG, PNG, GIF) in the subdirectory\n",
    "        image_files = glob.glob(os.path.join(subdir_path, '*.jpg')) + \\\n",
    "                      glob.glob(os.path.join(subdir_path, '*.jpeg')) + \\\n",
    "                      glob.glob(os.path.join(subdir_path, '*.png')) + \\\n",
    "                      glob.glob(os.path.join(subdir_path, '*.gif'))\n",
    "\n",
    "        # Print the number of image files in the subdirectory\n",
    "        print(f'{subdir}: {len(image_files)} images')"
   ]
  },
  {
   "cell_type": "code",
   "execution_count": 5,
   "metadata": {},
   "outputs": [],
   "source": [
    "import os\n",
    "import shutil\n",
    "from random import sample\n",
    "\n",
    "def create_validation_dataset(train_dir, val_dir, percentage):\n",
    "    if not os.path.exists(val_dir):\n",
    "        os.makedirs(val_dir)\n",
    "\n",
    "    for class_dir in os.listdir(train_dir):\n",
    "        train_class_dir = os.path.join(train_dir, class_dir)\n",
    "        val_class_dir = os.path.join(val_dir, class_dir)\n",
    "\n",
    "        if os.path.isdir(train_class_dir):\n",
    "            if not os.path.exists(val_class_dir):\n",
    "                os.makedirs(val_class_dir)\n",
    "\n",
    "            images = [f for f in os.listdir(train_class_dir) if os.path.isfile(os.path.join(train_class_dir, f))]\n",
    "            num_val_images = int(len(images) * percentage)\n",
    "\n",
    "            val_images = sample(images, num_val_images)\n",
    "\n",
    "            for img in val_images:\n",
    "                shutil.move(os.path.join(train_class_dir, img), os.path.join(val_class_dir, img))\n",
    "\n",
    "if __name__ == \"__main__\":\n",
    "    train_directory = \"data/brake shoe/train\"\n",
    "    validation_directory = \"data/brake shoe/valid\"\n",
    "    percentage = 0.20\n",
    "\n",
    "    create_validation_dataset(train_directory, validation_directory, percentage)"
   ]
  },
  {
   "cell_type": "code",
   "execution_count": 6,
   "metadata": {},
   "outputs": [
    {
     "name": "stdout",
     "output_type": "stream",
     "text": [
      "4524Q: 60 images\n",
      "4515Q: 60 images\n",
      "4718Q: 60 images\n",
      "4707Q: 60 images\n",
      "4725E: 60 images\n",
      "4729E: 60 images\n"
     ]
    }
   ],
   "source": [
    "import os\n",
    "import glob\n",
    "\n",
    "train_dir = 'data/brake shoe/train'\n",
    "\n",
    "# Iterate through each subdirectory in the train directory\n",
    "for subdir in os.listdir(train_dir):\n",
    "    subdir_path = os.path.join(train_dir, subdir)\n",
    "\n",
    "    # Check if it's a directory\n",
    "    if os.path.isdir(subdir_path):\n",
    "        # Use glob to find image files (JPEG, PNG, GIF) in the subdirectory\n",
    "        image_files = glob.glob(os.path.join(subdir_path, '*.jpg')) + \\\n",
    "                      glob.glob(os.path.join(subdir_path, '*.jpeg')) + \\\n",
    "                      glob.glob(os.path.join(subdir_path, '*.png')) + \\\n",
    "                      glob.glob(os.path.join(subdir_path, '*.gif'))\n",
    "\n",
    "        # Print the number of image files in the subdirectory\n",
    "        print(f'{subdir}: {len(image_files)} images')"
   ]
  },
  {
   "cell_type": "code",
   "execution_count": 4,
   "metadata": {},
   "outputs": [
    {
     "name": "stdout",
     "output_type": "stream",
     "text": [
      "3176 CAT Injector: 40 images\n",
      "7.3L Ford + 3126 CAT: 35 images\n",
      "6.7L Ford: 39 images\n",
      "Bosch LLM + LLY: 12 images\n",
      "Bosch LML: 41 images\n"
     ]
    }
   ],
   "source": [
    "import os\n",
    "import glob\n",
    "\n",
    "train_dir = 'data/siamese-images-VA/fuel injector/valid'\n",
    "\n",
    "# Iterate through each subdirectory in the train directory\n",
    "for subdir in os.listdir(train_dir):\n",
    "    subdir_path = os.path.join(train_dir, subdir)\n",
    "\n",
    "    # Check if it's a directory\n",
    "    if os.path.isdir(subdir_path):\n",
    "        # Use glob to find image files (JPEG, PNG, GIF) in the subdirectory\n",
    "        image_files = glob.glob(os.path.join(subdir_path, '*.jpg')) + \\\n",
    "                      glob.glob(os.path.join(subdir_path, '*.jpeg')) + \\\n",
    "                      glob.glob(os.path.join(subdir_path, '*.png')) + \\\n",
    "                      glob.glob(os.path.join(subdir_path, '*.gif'))\n",
    "\n",
    "        # Print the number of image files in the subdirectory\n",
    "        print(f'{subdir}: {len(image_files)} images')"
   ]
  },
  {
   "cell_type": "code",
   "execution_count": null,
   "metadata": {},
   "outputs": [],
   "source": []
  }
 ],
 "metadata": {
  "kernelspec": {
   "display_name": "base",
   "language": "python",
   "name": "python3"
  },
  "language_info": {
   "codemirror_mode": {
    "name": "ipython",
    "version": 3
   },
   "file_extension": ".py",
   "mimetype": "text/x-python",
   "name": "python",
   "nbconvert_exporter": "python",
   "pygments_lexer": "ipython3",
   "version": "3.10.9"
  },
  "orig_nbformat": 4,
  "vscode": {
   "interpreter": {
    "hash": "1ff262b1c30271cc97db05e41bc3fbf8dcb2f3d49b2a4289d3b890287f11ec8d"
   }
  }
 },
 "nbformat": 4,
 "nbformat_minor": 2
}
