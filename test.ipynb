{
  "cells": [
    {
      "cell_type": "markdown",
      "metadata": {
        "id": "01Qw6_OW1P6e"
      },
      "source": [
        "## **Face Recognition**\n",
        "\n",
        "**Facial Recognition System** is a technology capable of matching a human face from a digital image or a video frame against a database of faces, typically employed to authenticate users through ID verification services, works by pinpointing and measuring facial features from a given image. \n",
        "\n",
        "We'll be building a face recognition model that uses **Siamese Networks** to give us a distance value that indicates whether 2 images are same or different. \n",
        "\n",
        "#### **The Dataset**\n",
        "We'll be using the **Extracted Faces** from **face-recognition-dataset**, which is derived from the **LFW Dataset**.\n",
        "The Extracted Faces contains faces extracted from the base images using **Haar-Cascade Face-Detection** (CV2).\n",
        "- The dataset contains 1324 different individuals, with 2-50 images per person.\n",
        "- The images are of size (128,128,3) and are encoded in RGB.\n",
        "- Each folder and image is named with a number, i.e 0.jpg, 1.jpg"
      ]
    },
    {
      "cell_type": "code",
      "execution_count": 1,
      "metadata": {
        "id": "6jkcGHmxI_Br"
      },
      "outputs": [],
      "source": [
        "# import os \n",
        "# os.listdir('/content/drive/MyDrive/capstone_project/selected/RGBFace/train')\n",
        "\n",
        "# rename_dict = {}\n",
        "# for i,name in enumerate(os.listdir('/content/drive/MyDrive/capstone_project/selected/RGBFace/train'),1):\n",
        "#   rename_dict[name] = \"class_\" +str(i)\n",
        "\n"
      ]
    },
    {
      "cell_type": "code",
      "execution_count": 2,
      "metadata": {
        "id": "N4FUI2SvKirH"
      },
      "outputs": [],
      "source": [
        "# import os\n",
        "\n",
        "# folder_path = '/content/drive/MyDrive/capstone_project/selected/RGBFace/test'\n",
        "\n",
        "# for subdir, dirs, files in os.walk(folder_path):\n",
        "#     for old_name in dirs:\n",
        "#         if old_name in rename_dict:\n",
        "#             new_name = rename_dict[old_name]\n",
        "#             old_path = os.path.join(subdir, old_name)\n",
        "#             new_path = os.path.join(subdir, new_name)\n",
        "#             os.rename(old_path, new_path)"
      ]
    },
    {
      "cell_type": "code",
      "execution_count": 3,
      "metadata": {
        "id": "WC_XIBTkLBnd"
      },
      "outputs": [],
      "source": [
        "# import os\n",
        "\n",
        "# folder_path = '/content/drive/MyDrive/capstone_project/selected/RGBFace/train'\n",
        "\n",
        "# for subdir, dirs, files in os.walk(folder_path):\n",
        "#     for old_name in dirs:\n",
        "#         if old_name in rename_dict:\n",
        "#             new_name = rename_dict[old_name]\n",
        "#             old_path = os.path.join(subdir, old_name)\n",
        "#             new_path = os.path.join(subdir, new_name)\n",
        "#             os.rename(old_path, new_path)"
      ]
    },
    {
      "cell_type": "markdown",
      "metadata": {
        "id": "683rn_gK1P6f"
      },
      "source": [
        "## **Reading the Dataset**\n",
        "\n",
        "We're reading the folders and splitting them into **train and test set** for training purposes."
      ]
    },
    {
      "cell_type": "code",
      "execution_count": 4,
      "metadata": {
        "colab": {
          "base_uri": "https://localhost:8080/"
        },
        "id": "htVHnaa41P6g",
        "outputId": "c10e9aca-b934-45cd-a254-6e0d624bee88"
      },
      "outputs": [
        {
          "data": {
            "text/plain": [
              "('2.10.0', '1.24.2')"
            ]
          },
          "execution_count": 4,
          "metadata": {},
          "output_type": "execute_result"
        }
      ],
      "source": [
        "import os\n",
        "import cv2\n",
        "import time\n",
        "import random\n",
        "import numpy as np\n",
        "\n",
        "import tensorflow as tf\n",
        "from tensorflow.keras.applications.inception_v3 import preprocess_input\n",
        "\n",
        "import seaborn as sns\n",
        "import matplotlib.pyplot as plt\n",
        "tf.__version__, np.__version__"
      ]
    },
    {
      "cell_type": "code",
      "execution_count": 5,
      "metadata": {
        "id": "odQt_HI01P6h"
      },
      "outputs": [],
      "source": [
        "# Setting random seeds to enable consistency while testing.\n",
        "random.seed(5)\n",
        "np.random.seed(5)\n",
        "tf.random.set_seed(5)\n",
        "\n",
        "ROOT_train = r\"H:\\Just-In-Time-Detection-of-Unknown-Classes-Using-Deep-Learning\\data\\RGBFace_contrastive\\train_new\"\n",
        "ROOT_test = r\"H:\\Just-In-Time-Detection-of-Unknown-Classes-Using-Deep-Learning\\data\\RGBFace_contrastive\\test_new\"\n",
        "\n",
        "def read_image(index, ROOT):\n",
        "    path = os.path.join(ROOT, index[0], index[1])\n",
        "    image = cv2.imread(path)\n",
        "    image = cv2.cvtColor(image, cv2.COLOR_BGR2RGB)\n",
        "    return image"
      ]
    },
    {
      "cell_type": "code",
      "execution_count": 6,
      "metadata": {
        "id": "NLOLJF-s1P6h"
      },
      "outputs": [],
      "source": [
        "# def split_dataset(directory, split=0.75):\n",
        "#     folders = os.listdir(directory)\n",
        "#     num_train = int(len(folders)*split)\n",
        "    \n",
        "#     random.shuffle(folders)\n",
        "    \n",
        "#     train_list, test_list = {}, {}\n",
        "    \n",
        "#     # Creating Train-list\n",
        "#     for folder in folders[:num_train]:\n",
        "#         num_files = len(os.listdir(os.path.join(directory, folder)))\n",
        "#         train_list[folder] = num_files\n",
        "    \n",
        "#     # Creating Test-list\n",
        "#     for folder in folders[num_train:]:\n",
        "#         num_files = len(os.listdir(os.path.join(directory, folder)))\n",
        "#         test_list[folder] = num_files  \n",
        "    \n",
        "#     return train_list, test_list\n",
        "\n",
        "# train_list, test_list = split_dataset(ROOT, split=1)\n",
        "# print(\"Length of training list:\", len(train_list))\n",
        "# print(\"Length of testing list :\", len(test_list))\n",
        "\n",
        "# # train_list, test list contains the folder names along with the number of files in the folder.\n",
        "# print(\"\\nTest List:\", test_list)"
      ]
    },
    {
      "cell_type": "code",
      "execution_count": 7,
      "metadata": {
        "id": "GM1oOzSORMPN"
      },
      "outputs": [],
      "source": [
        "# import os\n",
        "# import shutil\n",
        "\n",
        "# def keep_n_images(train_dir_path, n,name ='train_new'):\n",
        "#     # Create a new directory called train_new\n",
        "#     new_train_dir_path = os.path.join(os.path.dirname(train_dir_path), name)\n",
        "#     if not os.path.exists(new_train_dir_path):\n",
        "#         os.makedirs(new_train_dir_path)\n",
        "\n",
        "#     # Iterate over nested directories\n",
        "#     for root, dirs, files in os.walk(train_dir_path):\n",
        "#         # Create a corresponding subdirectory in the new directory\n",
        "#         new_subdir_path = os.path.join(new_train_dir_path, os.path.relpath(root, train_dir_path))\n",
        "#         if not os.path.exists(new_subdir_path):\n",
        "#             os.makedirs(new_subdir_path)\n",
        "\n",
        "#         # Copy only n images to the new subdirectory\n",
        "#         num_images = len(files)\n",
        "#         if num_images > n:\n",
        "#             files_to_copy = files[:n]\n",
        "#         else:\n",
        "#             files_to_copy = files\n",
        "#         for file_name in files_to_copy:\n",
        "#             old_file_path = os.path.join(root, file_name)\n",
        "#             new_file_path = os.path.join(new_subdir_path, file_name)\n",
        "#             shutil.copy2(old_file_path, new_file_path)\n",
        "\n",
        "# keep_n_images('/content/drive/MyDrive/capstone_project/selected/RGBFace/test',11,\"test_new\")\n",
        "\n",
        "# keep_n_images('/content/drive/MyDrive/capstone_project/selected/RGBFace/train',41)"
      ]
    },
    {
      "cell_type": "code",
      "execution_count": 8,
      "metadata": {
        "id": "xdhpIY7QLerg"
      },
      "outputs": [],
      "source": [
        "\n",
        "# def rename_images(path):\n",
        "#     # Loop over each directory\n",
        "#     for subdir, dirs, files in os.walk(path):\n",
        "#         # Loop over each file in the directory\n",
        "#         for i, file in enumerate(sorted(files)):\n",
        "#             # Split the file name and extension\n",
        "#             file_name, file_ext = os.path.splitext(file)\n",
        "#             # Rename the file\n",
        "#             new_name = f\"{i+1}{file_ext}\"\n",
        "#             os.rename(os.path.join(subdir, file), os.path.join(subdir, new_name))\n",
        "\n",
        "# rename_images('/content/drive/MyDrive/capstone_project/selected/RGBFace/test_new')\n",
        "# rename_images('/content/drive/MyDrive/capstone_project/selected/RGBFace/train_new')"
      ]
    },
    {
      "cell_type": "markdown",
      "metadata": {
        "id": "X9SIp4pqKM8-"
      },
      "source": [
        "Renaming images"
      ]
    },
    {
      "cell_type": "code",
      "execution_count": 9,
      "metadata": {
        "colab": {
          "base_uri": "https://localhost:8080/"
        },
        "id": "Qfh2smERL823",
        "outputId": "d8e6812a-7fb0-4338-daf2-e4ad2a1966aa"
      },
      "outputs": [
        {
          "data": {
            "text/plain": [
              "{'class_1': 41,\n",
              " 'class_10': 41,\n",
              " 'class_11': 41,\n",
              " 'class_12': 41,\n",
              " 'class_2': 41,\n",
              " 'class_3': 41,\n",
              " 'class_4': 41,\n",
              " 'class_5': 41,\n",
              " 'class_6': 41,\n",
              " 'class_7': 41,\n",
              " 'class_8': 41,\n",
              " 'class_9': 41}"
            ]
          },
          "execution_count": 9,
          "metadata": {},
          "output_type": "execute_result"
        }
      ],
      "source": [
        "import os\n",
        "from collections import defaultdict\n",
        "\n",
        "# Set the path to your training directory\n",
        "training_dir = ROOT_train\n",
        "\n",
        "# Create a defaultdict to store the counts of images for each directory\n",
        "image_counts = defaultdict(int)\n",
        "\n",
        "# Walk through the training directory and its subdirectories\n",
        "for root, dirs, files in os.walk(training_dir):\n",
        "    # Iterate over the files in each directory and increment the count for that directory\n",
        "    for file in files:\n",
        "        directory = os.path.basename(root)\n",
        "        image_counts[directory] += 1\n",
        "\n",
        "# Convert the defaultdict to a regular dictionary for easier use\n",
        "train_list = dict(image_counts)\n",
        "train_list"
      ]
    },
    {
      "cell_type": "code",
      "execution_count": 10,
      "metadata": {
        "colab": {
          "base_uri": "https://localhost:8080/"
        },
        "id": "35BBxnDqQHD6",
        "outputId": "dcfc19a3-3b1b-469a-a0c5-795dc9990a63"
      },
      "outputs": [
        {
          "data": {
            "text/plain": [
              "{'class_1': 11,\n",
              " 'class_10': 11,\n",
              " 'class_11': 11,\n",
              " 'class_12': 11,\n",
              " 'class_2': 11,\n",
              " 'class_3': 11,\n",
              " 'class_4': 11,\n",
              " 'class_5': 11,\n",
              " 'class_6': 11,\n",
              " 'class_7': 11,\n",
              " 'class_8': 11,\n",
              " 'class_9': 11}"
            ]
          },
          "execution_count": 10,
          "metadata": {},
          "output_type": "execute_result"
        }
      ],
      "source": [
        "import os\n",
        "from collections import defaultdict\n",
        "\n",
        "# Set the path to your training directory\n",
        "training_dir = ROOT_test\n",
        "\n",
        "# Create a defaultdict to store the counts of images for each directory\n",
        "image_counts = defaultdict(int)\n",
        "\n",
        "# Walk through the training directory and its subdirectories\n",
        "for root, dirs, files in os.walk(training_dir):\n",
        "    # Iterate over the files in each directory and increment the count for that directory\n",
        "    for file in files:\n",
        "        directory = os.path.basename(root)\n",
        "        image_counts[directory] += 1\n",
        "\n",
        "# Convert the defaultdict to a regular dictionary for easier use\n",
        "test_list = dict(image_counts)\n",
        "test_list"
      ]
    },
    {
      "cell_type": "markdown",
      "metadata": {
        "id": "_WCxnaI31P6h"
      },
      "source": [
        "### Creating Triplets\n",
        "\n",
        "We use the train and test list to create triplets of **(anchor, postive, negative)** face data, where positive is the same person and negative is a different person than anchor."
      ]
    },
    {
      "cell_type": "code",
      "execution_count": 11,
      "metadata": {
        "id": "lVzmd_sH1P6h"
      },
      "outputs": [],
      "source": [
        "def create_triplets(directory, folder_list, max_files=40):\n",
        "    triplets = []\n",
        "    folders = list(folder_list.keys())\n",
        "    \n",
        "    for folder in folders:\n",
        "        path = os.path.join(directory, folder)\n",
        "        files = list(os.listdir(path))[:max_files]\n",
        "        num_files = len(files)\n",
        "        \n",
        "        for i in range(1,num_files-1):\n",
        "            for j in range(i+1, num_files):\n",
        "                anchor = (folder, f\"{i}.jpg\")\n",
        "                positive = (folder, f\"{j}.jpg\")\n",
        "\n",
        "                neg_folder = folder\n",
        "                while neg_folder == folder:\n",
        "                    neg_folder = random.choice(folders)\n",
        "                neg_file = random.randint(1, folder_list[neg_folder]-1)\n",
        "                negative = (neg_folder, f\"{neg_file}.jpg\")\n",
        "\n",
        "                triplets.append((anchor, positive, negative))\n",
        "            \n",
        "    random.shuffle(triplets)\n",
        "    return triplets"
      ]
    },
    {
      "cell_type": "code",
      "execution_count": 12,
      "metadata": {
        "colab": {
          "base_uri": "https://localhost:8080/"
        },
        "id": "yugOlb4m1P6i",
        "outputId": "d3a0e960-1a02-4c86-b9d7-b1214eb9f01f"
      },
      "outputs": [
        {
          "name": "stdout",
          "output_type": "stream",
          "text": [
            "Number of training triplets: 8892\n",
            "Number of testing triplets : 540\n",
            "\n",
            "Examples of triplets:\n",
            "(('class_1', '5.jpg'), ('class_1', '8.jpg'), ('class_10', '6.jpg'))\n",
            "(('class_12', '3.jpg'), ('class_12', '7.jpg'), ('class_6', '8.jpg'))\n",
            "(('class_8', '1.jpg'), ('class_8', '4.jpg'), ('class_11', '6.jpg'))\n",
            "(('class_10', '6.jpg'), ('class_10', '8.jpg'), ('class_9', '8.jpg'))\n",
            "(('class_10', '3.jpg'), ('class_10', '6.jpg'), ('class_4', '7.jpg'))\n"
          ]
        }
      ],
      "source": [
        "train_triplet = create_triplets(ROOT_train, train_list)\n",
        "test_triplet  = create_triplets(ROOT_test, test_list)\n",
        "\n",
        "print(\"Number of training triplets:\", len(train_triplet))\n",
        "print(\"Number of testing triplets :\", len(test_triplet))\n",
        "\n",
        "print(\"\\nExamples of triplets:\")\n",
        "for i in range(5):\n",
        "    print(test_triplet[i])"
      ]
    },
    {
      "cell_type": "markdown",
      "metadata": {
        "id": "-c-nR9R61P6i"
      },
      "source": [
        "### Creating Batch-Generator\n",
        "\n",
        "Creating a **Batch-Generator** that converts the triplets passed into batches of face-data and **preproccesses** it before returning the data into seperate lists.\n",
        "\n",
        "**Parameters:**\n",
        "- Batch_size: Batch_size of the data to return\n",
        "- Preprocess: Whether to preprocess the data or not"
      ]
    },
    {
      "cell_type": "code",
      "execution_count": 13,
      "metadata": {
        "id": "l1tf0bco1P6i"
      },
      "outputs": [],
      "source": [
        "def get_batch(triplet_list,ROOT, batch_size=16, preprocess=True):\n",
        "    batch_steps = len(triplet_list)//batch_size\n",
        "    \n",
        "    for i in range(batch_steps+1):\n",
        "        anchor   = []\n",
        "        positive = []\n",
        "        negative = []\n",
        "        \n",
        "        j = i*batch_size\n",
        "        while j<(i+1)*batch_size and j<len(triplet_list):\n",
        "            a, p, n = triplet_list[j]\n",
        "            anchor.append(read_image(a,ROOT))\n",
        "            positive.append(read_image(p,ROOT))\n",
        "            negative.append(read_image(n,ROOT))\n",
        "            j+=1\n",
        "            \n",
        "        anchor = np.array(anchor)\n",
        "        positive = np.array(positive)\n",
        "        negative = np.array(negative)\n",
        "        \n",
        "        if preprocess:\n",
        "            anchor = preprocess_input(anchor)\n",
        "            positive = preprocess_input(positive)\n",
        "            negative = preprocess_input(negative)\n",
        "        \n",
        "        yield ([anchor, positive, negative])"
      ]
    },
    {
      "cell_type": "markdown",
      "metadata": {
        "id": "QesicOl4Jeyc"
      },
      "source": []
    },
    {
      "cell_type": "markdown",
      "metadata": {
        "id": "Wc8djWg61P6i"
      },
      "source": [
        "### Plotting the Data\n",
        "\n",
        "Plotting the data generated from **get_batch()** to see the results"
      ]
    },
    {
      "cell_type": "code",
      "execution_count": 14,
      "metadata": {
        "colab": {
          "base_uri": "https://localhost:8080/",
          "height": 1000
        },
        "id": "HNeY2Oqs1P6i",
        "outputId": "9a689e6b-d051-4589-f664-f0a8c5f87aed"
      },
      "outputs": [
        {
          "data": {
            "image/png": "[encoded data removed]",
            "text/plain": [
              "<Figure size 1500x2000 with 18 Axes>"
            ]
          },
          "metadata": {},
          "output_type": "display_data"
        }
      ],
      "source": [
        "num_plots = 6\n",
        "\n",
        "f, axes = plt.subplots(num_plots, 3, figsize=(15, 20))\n",
        "\n",
        "for x in get_batch(train_triplet, batch_size=num_plots, preprocess=False,ROOT=ROOT_train):\n",
        "    a,p,n = x\n",
        "    for i in range(num_plots):\n",
        "        axes[i, 0].imshow(a[i])\n",
        "        axes[i, 1].imshow(p[i])\n",
        "        axes[i, 2].imshow(n[i])\n",
        "        i+=1\n",
        "    break"
      ]
    },
    {
      "cell_type": "markdown",
      "metadata": {
        "id": "qAJyp7hA1P6j"
      },
      "source": [
        "## **Creating the Model**\n",
        "\n",
        "Unlike a conventional CNN, the **Siamese Network** does not classify the images into certain categories or labels, rather it only finds out the distance between any two given images. If the images have the same label, then the network should learn the parameters, i.e. the weights and the biases in such a way that it should produce a smaller distance between the two images, and if they belong to different labels, then the distance should be larger\n",
        "\n",
        "![Siamese Network Image](https://miro.medium.com/max/2000/1*05hUCDHhnl4hdjqvdVTHtw.png)"
      ]
    },
    {
      "cell_type": "code",
      "execution_count": 15,
      "metadata": {
        "id": "h2JDPh-71P6j"
      },
      "outputs": [],
      "source": [
        "from tensorflow.keras import backend, layers, metrics\n",
        "\n",
        "from tensorflow.keras.optimizers import Adam\n",
        "from tensorflow.keras.applications import Xception\n",
        "from tensorflow.keras.models import Model, Sequential\n",
        "\n",
        "from tensorflow.keras.utils import plot_model\n",
        "from sklearn.metrics import accuracy_score, confusion_matrix, classification_report"
      ]
    },
    {
      "cell_type": "markdown",
      "metadata": {
        "id": "oRxkRR9E1P6j"
      },
      "source": [
        "### Encoder\n",
        "\n",
        "The **Encoder** is responsible for converting the passed images into their feature vectors. We're using a pretrained model, **Xception model** which is based on **Inception_V3 model.** By using transfer learning, we can significantly reduce the training time and size of the dataset.\n",
        "\n",
        "The Model is connected to **Fully Connected (Dense)** layers and the last layer normalises the data using **L2 Normalisation**. *(L2 Normalisation is a technique that modifies the dataset values in a way that in each row the sum of the squares will always be up to 1)*"
      ]
    },
    {
      "cell_type": "code",
      "execution_count": 16,
      "metadata": {
        "id": "sRc5FNIZ1P6j"
      },
      "outputs": [],
      "source": [
        "# def get_encoder(input_shape):\n",
        "#     \"\"\" Returns the image encoding model \"\"\"\n",
        "\n",
        "#     pretrained_model = Xception(\n",
        "#         input_shape=input_shape,\n",
        "#         weights='imagenet',\n",
        "#         include_top=False,\n",
        "#         pooling='avg',\n",
        "#     )\n",
        "    \n",
        "#     for i in range(len(pretrained_model.layers)-27):\n",
        "#         pretrained_model.layers[i].trainable = False\n",
        "\n",
        "#     encode_model = Sequential([\n",
        "#         pretrained_model,\n",
        "#         layers.Flatten(),\n",
        "#         layers.Dense(512, activation='relu'),\n",
        "#         layers.BatchNormalization(),\n",
        "#         layers.Dense(256, activation=\"relu\"),\n",
        "#         layers.Lambda(lambda x: tf.math.l2_normalize(x, axis=1))\n",
        "#     ], name=\"Encode_Model\")\n",
        "#     return encode_model\n",
        "\n",
        "\n",
        "\n",
        "\n",
        "\n",
        "from tensorflow.keras import regularizers\n",
        "\n",
        "def get_encoder(input_shape, l2_reg=0.01, dropout_rate=0.2):\n",
        "    \"\"\" Returns the image encoding model \"\"\"\n",
        "\n",
        "    pretrained_model = Xception(\n",
        "        input_shape=input_shape,\n",
        "        weights='imagenet',\n",
        "        include_top=False,\n",
        "        pooling='avg',\n",
        "    )\n",
        "    \n",
        "    for i in range(len(pretrained_model.layers)-27):\n",
        "        pretrained_model.layers[i].trainable = False\n",
        "\n",
        "    encode_model = Sequential([\n",
        "        pretrained_model,\n",
        "        layers.Flatten(),\n",
        "        layers.Dense(512, activation='relu', kernel_regularizer=regularizers.l2(l2_reg)),\n",
        "        layers.BatchNormalization(),\n",
        "        layers.Dropout(dropout_rate),\n",
        "        layers.Dense(256, activation=\"relu\", kernel_regularizer=regularizers.l2(l2_reg)),\n",
        "        layers.BatchNormalization(),\n",
        "        layers.Dropout(dropout_rate),\n",
        "        layers.Lambda(lambda x: tf.math.l2_normalize(x, axis=1))\n",
        "    ], name=\"Encode_Model\")\n",
        "    \n",
        "    return encode_model\n"
      ]
    },
    {
      "cell_type": "markdown",
      "metadata": {
        "id": "9lQX2G5hhOpg"
      },
      "source": [
        "# 56 accuracy"
      ]
    },
    {
      "cell_type": "markdown",
      "metadata": {
        "id": "WPsixulu1P6j"
      },
      "source": [
        "### Siamese Network\n",
        "\n",
        "We're creating a **Siamese Network** that takes 3 input images, (anchor, postive, negative) and uses the encoder above to encode the images to their feature vectors. Those features are passed to a distance layer which computes the distance between **(anchor, positive)** and **(anchor, negative)** pairs.\n",
        "\n",
        "We'll be defining a custom layer to compute the distance.\n",
        "\n",
        "**Distance Formula**:\n",
        "\n",
        "![image.png](attachment:5e83389c-697d-4b02-8b39-81f5eba0ba9e.png)"
      ]
    },
    {
      "cell_type": "code",
      "execution_count": 17,
      "metadata": {
        "colab": {
          "base_uri": "https://localhost:8080/"
        },
        "id": "ndhx3eET1P6j",
        "outputId": "572525ed-cd14-479e-93d1-5a1ffd08b12a"
      },
      "outputs": [
        {
          "name": "stdout",
          "output_type": "stream",
          "text": [
            "Model: \"Siamese_Network\"\n",
            "__________________________________________________________________________________________________\n",
            " Layer (type)                   Output Shape         Param #     Connected to                     \n",
            "==================================================================================================\n",
            " Anchor_Input (InputLayer)      [(None, 250, 250, 3  0           []                               \n",
            "                                )]                                                                \n",
            "                                                                                                  \n",
            " Positive_Input (InputLayer)    [(None, 250, 250, 3  0           []                               \n",
            "                                )]                                                                \n",
            "                                                                                                  \n",
            " Negative_Input (InputLayer)    [(None, 250, 250, 3  0           []                               \n",
            "                                )]                                                                \n",
            "                                                                                                  \n",
            " Encode_Model (Sequential)      (None, 256)          22044968    ['Anchor_Input[0][0]',           \n",
            "                                                                  'Positive_Input[0][0]',         \n",
            "                                                                  'Negative_Input[0][0]']         \n",
            "                                                                                                  \n",
            " distance_layer (DistanceLayer)  ((None,),           0           ['Encode_Model[3][0]',           \n",
            "                                 (None,))                         'Encode_Model[4][0]',           \n",
            "                                                                  'Encode_Model[5][0]']           \n",
            "                                                                                                  \n",
            "==================================================================================================\n",
            "Total params: 22,044,968\n",
            "Trainable params: 9,584,312\n",
            "Non-trainable params: 12,460,656\n",
            "__________________________________________________________________________________________________\n"
          ]
        }
      ],
      "source": [
        "class DistanceLayer(layers.Layer):\n",
        "    # A layer to compute ‖f(A) - f(P)‖² and ‖f(A) - f(N)‖²\n",
        "    def __init__(self, **kwargs):\n",
        "        super().__init__(**kwargs)\n",
        "\n",
        "    def call(self, anchor, positive, negative):\n",
        "        ap_distance = tf.reduce_sum(tf.square(anchor - positive), -1)\n",
        "        an_distance = tf.reduce_sum(tf.square(anchor - negative), -1)\n",
        "        return (ap_distance, an_distance)\n",
        "    \n",
        "\n",
        "def get_siamese_network(input_shape = (250, 250, 3)):\n",
        "    encoder = get_encoder(input_shape)\n",
        "    \n",
        "    # Input Layers for the images\n",
        "    anchor_input   = layers.Input(input_shape, name=\"Anchor_Input\")\n",
        "    positive_input = layers.Input(input_shape, name=\"Positive_Input\")\n",
        "    negative_input = layers.Input(input_shape, name=\"Negative_Input\")\n",
        "    \n",
        "    ## Generate the encodings (feature vectors) for the images\n",
        "    encoded_a = encoder(anchor_input)\n",
        "    encoded_p = encoder(positive_input)\n",
        "    encoded_n = encoder(negative_input)\n",
        "    \n",
        "    # A layer to compute ‖f(A) - f(P)‖² and ‖f(A) - f(N)‖²\n",
        "    distances = DistanceLayer()(\n",
        "        encoder(anchor_input),\n",
        "        encoder(positive_input),\n",
        "        encoder(negative_input)\n",
        "    )\n",
        "    \n",
        "    # Creating the Model\n",
        "    siamese_network = Model(\n",
        "        inputs  = [anchor_input, positive_input, negative_input],\n",
        "        outputs = distances,\n",
        "        name = \"Siamese_Network\"\n",
        "    )\n",
        "    return siamese_network\n",
        "\n",
        "siamese_network = get_siamese_network()\n",
        "siamese_network.summary()"
      ]
    },
    {
      "cell_type": "code",
      "execution_count": 18,
      "metadata": {
        "colab": {
          "base_uri": "https://localhost:8080/",
          "height": 288
        },
        "id": "Ua3R10TI1P6j",
        "outputId": "2e308ada-c478-41ff-f7df-22a90266118c"
      },
      "outputs": [
        {
          "name": "stdout",
          "output_type": "stream",
          "text": [
            "You must install pydot (`pip install pydot`) and install graphviz (see instructions at https://graphviz.gitlab.io/download/) for plot_model to work.\n"
          ]
        }
      ],
      "source": [
        "plot_model(siamese_network, show_shapes=True, show_layer_names=True)"
      ]
    },
    {
      "cell_type": "markdown",
      "metadata": {
        "id": "HC9W1ThI1P6k"
      },
      "source": [
        "### Putting everything together\n",
        "\n",
        "We now need to implement a model with custom training loop and loss function so we can compute the **triplet loss** using the three embeddings produced by the Siamese network.\n",
        "\n",
        "We'll create a **Mean metric** instance to track the loss of the training process.\n",
        "\n",
        "**Triplet Loss Function:**\n",
        "\n",
        "<img src=\"https://miro.medium.com/max/1838/0*AX2TSZNk19_gDgTN.png\" alt=\"Loss Formula\" width=\"400\"/>"
      ]
    },
    {
      "cell_type": "code",
      "execution_count": 19,
      "metadata": {
        "id": "0AmUE5C-1P6k"
      },
      "outputs": [],
      "source": [
        "class SiameseModel(Model):\n",
        "    # Builds a Siamese model based on a base-model\n",
        "    def __init__(self, siamese_network, margin=1.0):\n",
        "        super(SiameseModel, self).__init__()\n",
        "        \n",
        "        self.margin = margin\n",
        "        self.siamese_network = siamese_network\n",
        "        self.loss_tracker = metrics.Mean(name=\"loss\")\n",
        "\n",
        "    def call(self, inputs):\n",
        "        return self.siamese_network(inputs)\n",
        "\n",
        "    def train_step(self, data):\n",
        "        # GradientTape get the gradients when we compute loss, and uses them to update the weights\n",
        "        with tf.GradientTape() as tape:\n",
        "            loss = self._compute_loss(data)\n",
        "            \n",
        "        gradients = tape.gradient(loss, self.siamese_network.trainable_weights)\n",
        "        self.optimizer.apply_gradients(zip(gradients, self.siamese_network.trainable_weights))\n",
        "        \n",
        "        self.loss_tracker.update_state(loss)\n",
        "        return {\"loss\": self.loss_tracker.result()}\n",
        "\n",
        "    def test_step(self, data):\n",
        "        loss = self._compute_loss(data)\n",
        "        \n",
        "        self.loss_tracker.update_state(loss)\n",
        "        return {\"loss\": self.loss_tracker.result()}\n",
        "\n",
        "    def _compute_loss(self, data):\n",
        "        # Get the two distances from the network, then compute the triplet loss\n",
        "        ap_distance, an_distance = self.siamese_network(data)\n",
        "        loss = tf.maximum(ap_distance - an_distance + self.margin, 0.0)\n",
        "        return loss\n",
        "\n",
        "    @property\n",
        "    def metrics(self):\n",
        "        # We need to list our metrics so the reset_states() can be called automatically.\n",
        "        return [self.loss_tracker]"
      ]
    },
    {
      "cell_type": "code",
      "execution_count": 20,
      "metadata": {
        "id": "t-l3xFp_1P6k"
      },
      "outputs": [],
      "source": [
        "siamese_model = SiameseModel(siamese_network)\n",
        "\n",
        "optimizer = Adam(learning_rate=1e-3, epsilon=1e-01)\n",
        "siamese_model.compile(optimizer=optimizer)"
      ]
    },
    {
      "cell_type": "markdown",
      "metadata": {
        "id": "tw7-KgAI1P6k"
      },
      "source": [
        "## **Training the Model**\n",
        "\n",
        "We'll now be training the siamese_model on batches of triplets. We'll print the training loss, along with additional metrics from testing every epoch. The model weights will also be saved whenever it outperforms the previous max_accuracy.\n",
        "\n",
        "We're hoping to collect more metrics about the model to evaluate how to increase the accuracy of the model. The epochs have been set to avoid going over Kaggle's time constraint.\n",
        "\n",
        "### Test Function\n",
        "\n",
        "**test_on_triplets()** function will be responsible for testing the model on test_triplets. It'll collect metrics **(accuracy, means, stds)** by predicting on the train data. We'll also be printing the Accuracy of the model after testing."
      ]
    },
    {
      "cell_type": "code",
      "execution_count": 21,
      "metadata": {
        "id": "g5O4V6r51P6k"
      },
      "outputs": [],
      "source": [
        "def test_on_triplets(batch_size = 16):\n",
        "    pos_scores, neg_scores = [], []\n",
        "\n",
        "    for data in get_batch(test_triplet, batch_size=batch_size,ROOT=ROOT_test):\n",
        "        prediction = siamese_model.predict(data)\n",
        "        pos_scores += list(prediction[0])\n",
        "        neg_scores += list(prediction[1])\n",
        "    \n",
        "    accuracy = np.sum(np.array(pos_scores) < np.array(neg_scores)) / len(pos_scores)\n",
        "    ap_mean = np.mean(pos_scores)\n",
        "    an_mean = np.mean(neg_scores)\n",
        "    ap_stds = np.std(pos_scores)\n",
        "    an_stds = np.std(neg_scores)\n",
        "    \n",
        "    print(f\"Accuracy on test = {accuracy:.5f}\")\n",
        "    return (accuracy, ap_mean, an_mean, ap_stds, an_stds)"
      ]
    },
    {
      "cell_type": "code",
      "execution_count": 22,
      "metadata": {
        "colab": {
          "base_uri": "https://localhost:8080/"
        },
        "id": "8qdjtUoU1P6k",
        "outputId": "de169652-40f5-41f7-fa02-10c983e019e3"
      },
      "outputs": [
        {
          "ename": "",
          "evalue": "",
          "output_type": "error",
          "traceback": [
            "\u001b[1;31mCanceled future for execute_request message before replies were done"
          ]
        },
        {
          "ename": "",
          "evalue": "",
          "output_type": "error",
          "traceback": [
            "\u001b[1;31mThe Kernel crashed while executing code in the the current cell or a previous cell. Please review the code in the cell(s) to identify a possible cause of the failure. Click <a href='https://aka.ms/vscodeJupyterKernelCrash'>here</a> for more info. View Jupyter <a href='command:jupyter.viewOutput'>log</a> for further details."
          ]
        }
      ],
      "source": [
        "save_all = False\n",
        "epochs = 1\n",
        "batch_size = 64\n",
        "\n",
        "max_acc = 0\n",
        "train_loss = []\n",
        "test_metrics = []\n",
        "\n",
        "for epoch in range(1, epochs+1):\n",
        "    t = time.time()\n",
        "    \n",
        "    # Training the model on train data\n",
        "    epoch_loss = []\n",
        "    for data in get_batch(train_triplet, batch_size=batch_size,ROOT=ROOT_train):\n",
        "        loss = siamese_model.train_on_batch(data)\n",
        "        epoch_loss.append(loss)\n",
        "    epoch_loss = sum(epoch_loss)/len(epoch_loss)\n",
        "    train_loss.append(epoch_loss)\n",
        "\n",
        "    print(f\"\\nEPOCH: {epoch} \\t (Epoch done in {int(time.time()-t)} sec)\")\n",
        "    print(f\"Loss on train    = {epoch_loss:.5f}\")\n",
        "    \n",
        "    # Testing the model on test data\n",
        "    metric = test_on_triplets(batch_size=batch_size)\n",
        "    test_metrics.append(metric)\n",
        "    accuracy = metric[0]\n",
        "    \n",
        "    # Saving the model weights\n",
        "    if save_all or accuracy>=max_acc:\n",
        "        siamese_model.save_weights(\"siamese_model\")\n",
        "        max_acc = accuracy\n",
        "\n",
        "# Saving the model after all epochs run\n",
        "siamese_model.save_weights(\"siamese_model-final\")"
      ]
    },
    {
      "cell_type": "code",
      "execution_count": null,
      "metadata": {
        "id": "R7-vNNFRWsg0"
      },
      "outputs": [],
      "source": [
        "siamese_model.save_weights(\"siamese_model-final\")"
      ]
    },
    {
      "cell_type": "markdown",
      "metadata": {
        "id": "UWddbMmH1P6k"
      },
      "source": [
        "## **Evaluating the Model**\n"
      ]
    },
    {
      "cell_type": "code",
      "execution_count": null,
      "metadata": {
        "colab": {
          "base_uri": "https://localhost:8080/",
          "height": 655
        },
        "id": "VAlFHxFf1P6l",
        "outputId": "91e83782-5f3f-4259-a93d-9f29486ebc77"
      },
      "outputs": [],
      "source": [
        "def plot_metrics(loss, metrics):\n",
        "    # Extracting individual metrics from metrics\n",
        "    accuracy = metrics[:, 0]\n",
        "    ap_mean  = metrics[:, 1]\n",
        "    an_mean  = metrics[:, 2]\n",
        "    ap_stds  = metrics[:, 3]\n",
        "    an_stds  = metrics[:, 4]\n",
        "    \n",
        "    plt.figure(figsize=(15,5))\n",
        "    \n",
        "    # Plotting the loss over epochs\n",
        "    plt.subplot(121)\n",
        "    plt.plot(loss, 'b', label='Loss')\n",
        "    plt.title('Training loss')\n",
        "    plt.legend()\n",
        "    \n",
        "    # Plotting the accuracy over epochs\n",
        "    plt.subplot(122)\n",
        "    plt.plot(accuracy, 'r', label='Accuracy')\n",
        "    plt.title('Testing Accuracy')\n",
        "    plt.legend()\n",
        "    \n",
        "    plt.figure(figsize=(15,5))\n",
        "    \n",
        "    # Comparing the Means over epochs\n",
        "    plt.subplot(121)\n",
        "    plt.plot(ap_mean, 'b', label='AP Mean')\n",
        "    plt.plot(an_mean, 'g', label='AN Mean')\n",
        "    plt.title('Means Comparision')\n",
        "    plt.legend()\n",
        "    \n",
        "    # Plotting the accuracy\n",
        "    ap_75quartile = (ap_mean+ap_stds)\n",
        "    an_75quartile = (an_mean-an_stds)\n",
        "    plt.subplot(122)\n",
        "    plt.plot(ap_75quartile, 'b', label='AP (Mean+SD)')\n",
        "    plt.plot(an_75quartile, 'g', label='AN (Mean-SD)')\n",
        "    plt.title('75th Quartile Comparision')\n",
        "    plt.legend()\n",
        "\n",
        "test_metrics = np.array(test_metrics)\n",
        "plot_metrics(train_loss, test_metrics)"
      ]
    },
    {
      "cell_type": "markdown",
      "metadata": {
        "id": "KArxnnK21P6l"
      },
      "source": [
        "## **Using the Model**\n",
        "\n",
        "Now that we've finished training our model, we need to **extract the encoder** so that we can use it to encode images and then get use the feature vectors to compute the distance between those images.\n",
        "\n",
        "We'll also be saving the encoder for latter use."
      ]
    },
    {
      "cell_type": "code",
      "execution_count": null,
      "metadata": {
        "colab": {
          "base_uri": "https://localhost:8080/"
        },
        "id": "msNIsjV61P6l",
        "outputId": "3a5bb5cb-5204-4edd-b32a-5a4c6ee6a972"
      },
      "outputs": [],
      "source": [
        "def extract_encoder(model):\n",
        "    encoder = get_encoder((250, 250, 3))\n",
        "    i=0\n",
        "    for e_layer in model.layers[0].layers[3].layers:\n",
        "        layer_weight = e_layer.get_weights()\n",
        "        encoder.layers[i].set_weights(layer_weight)\n",
        "        i+=1\n",
        "    return encoder\n",
        "\n",
        "encoder = extract_encoder(siamese_model)\n",
        "encoder.save_weights(\"encoder\")\n",
        "encoder.summary()"
      ]
    },
    {
      "cell_type": "markdown",
      "metadata": {
        "id": "cp2ajNJe1P6l"
      },
      "source": [
        "### Classify Images\n",
        "\n",
        "To compute the distance between the encodings of the images, we'll be using distance formula. Distance over a certain threshold to be \"different\" and below the threshold as \"same\"."
      ]
    },
    {
      "cell_type": "code",
      "execution_count": null,
      "metadata": {
        "id": "XkW4SYKx1P6l"
      },
      "outputs": [],
      "source": [
        "def classify_images(face_list1, face_list2, threshold=1.3):\n",
        "    print(type(face_list1))\n",
        "    # Getting the encodings for the passed faces\n",
        "    tensor1 = encoder.predict(face_list1)\n",
        "    tensor2 = encoder.predict(face_list2)\n",
        "    \n",
        "    distance = np.sum(np.square(tensor1-tensor2), axis=-1)\n",
        "    prediction = np.where(distance<=threshold, 0, 1)\n",
        "    return prediction"
      ]
    },
    {
      "cell_type": "code",
      "execution_count": null,
      "metadata": {
        "colab": {
          "base_uri": "https://localhost:8080/",
          "height": 479
        },
        "id": "q_DO4REL1P6l",
        "outputId": "c0074fc1-1549-4a2e-ac23-826a06350827"
      },
      "outputs": [],
      "source": [
        "def ModelMetrics(pos_list, neg_list):\n",
        "    true = np.array([0]*len(pos_list)+[1]*len(neg_list))\n",
        "    pred = np.append(pos_list, neg_list)\n",
        "    \n",
        "    # Compute and print the accuracy\n",
        "    print(f\"\\nAccuracy of model: {accuracy_score(true, pred)}\\n\")\n",
        "    \n",
        "    # Compute and plot the Confusion matrix\n",
        "    cf_matrix = confusion_matrix(true, pred)\n",
        "\n",
        "    categories  = ['Similar','Different']\n",
        "    names = ['True Similar','False Similar', 'False Different','True Different']\n",
        "    percentages = ['{0:.2%}'.format(value) for value in cf_matrix.flatten() / np.sum(cf_matrix)]\n",
        "\n",
        "    labels = [f'{v1}\\n{v2}' for v1, v2 in zip(names, percentages)]\n",
        "    labels = np.asarray(labels).reshape(2,2)\n",
        "\n",
        "    sns.heatmap(cf_matrix, annot = labels, cmap = 'Blues',fmt = '',\n",
        "                xticklabels = categories, yticklabels = categories)\n",
        "\n",
        "    plt.xlabel(\"Predicted\", fontdict = {'size':14}, labelpad = 10)\n",
        "    plt.ylabel(\"Actual\"   , fontdict = {'size':14}, labelpad = 10)\n",
        "    plt.title (\"Confusion Matrix\", fontdict = {'size':18}, pad = 20)\n",
        "\n",
        "\n",
        "pos_list = np.array([])\n",
        "neg_list = np.array([])\n",
        "\n",
        "for data in get_batch(test_triplet, batch_size=256,ROOT=ROOT_train):\n",
        "    a, p, n = data\n",
        "    pos_list = np.append(pos_list, classify_images(a, p))\n",
        "    neg_list = np.append(neg_list, classify_images(a, n))\n",
        "    break\n",
        "\n",
        "ModelMetrics(pos_list, neg_list)"
      ]
    },
    {
      "cell_type": "markdown",
      "metadata": {
        "id": "rkxwkTjw1P6l"
      },
      "source": [
        "## References\n",
        "\n",
        "- FaceNet: A Unified Embedding for Face Recognition and Clustering: https://arxiv.org/abs/1503.03832\n",
        "- Image similarity estimation using a Siamese Network with a triplet loss: https://keras.io/examples/vision/siamese_network/\n",
        "- Celebrity Face Recognition: https://www.kaggle.com/ravehgillmore/celebrity-face-recognition/\n",
        "- Face Recognition using Siamese Networks: https://medium.com/wicds/face-recognition-using-siamese-networks-84d6f2e54ea4\n"
      ]
    },
    {
      "cell_type": "code",
      "execution_count": null,
      "metadata": {
        "colab": {
          "base_uri": "https://localhost:8080/"
        },
        "id": "MOnJcW8aeJLP",
        "outputId": "7d6c72d7-9da0-45ff-dc94-765341bc2606"
      },
      "outputs": [],
      "source": [
        "encoder"
      ]
    },
    {
      "cell_type": "code",
      "execution_count": null,
      "metadata": {
        "id": "aiVLwC6MmQNz"
      },
      "outputs": [],
      "source": []
    },
    {
      "cell_type": "code",
      "execution_count": null,
      "metadata": {
        "id": "Yxvdn1f7JieL"
      },
      "outputs": [],
      "source": [
        "def classify_images_our_version(face_list1, face_list2):\n",
        "    # Getting the encodings for the passed faces\n",
        "    tensor1 = encoder.predict(face_list1)\n",
        "    tensor2 = encoder.predict(face_list2)\n",
        "    \n",
        "    distance = np.sum(np.square(tensor1-tensor2), axis=-1)[0]\n",
        "    return distance"
      ]
    },
    {
      "cell_type": "code",
      "execution_count": null,
      "metadata": {
        "id": "9dgIb7GbnQqp"
      },
      "outputs": [],
      "source": [
        "def read_image_label(ROOT):\n",
        "    path = ROOT\n",
        "    image = cv2.imread(path)\n",
        "    image = cv2.cvtColor(image, cv2.COLOR_BGR2RGB)\n",
        "    label = path.split(\"/\")[-2]\n",
        "    image = tf.constant(np.expand_dims(image, axis=0))\n",
        "    return image,label"
      ]
    },
    {
      "cell_type": "code",
      "execution_count": null,
      "metadata": {
        "id": "d2SYBPiCK8_l"
      },
      "outputs": [],
      "source": [
        "image_1 = read_image_label(\"/content/drive/MyDrive/capstone_project/selected/RGBFace/train_new/class_1/1.jpg\")\n",
        "image_2 =  read_image_label(\"/content/drive/MyDrive/capstone_project/selected/RGBFace/train_new/class_1/2.jpg\")\n",
        "image_3 =  read_image_label(\"/content/drive/MyDrive/capstone_project/selected/RGBFace/train_new/class_4/2.jpg\")"
      ]
    },
    {
      "cell_type": "code",
      "execution_count": null,
      "metadata": {
        "colab": {
          "base_uri": "https://localhost:8080/"
        },
        "id": "al7mgnQ8K9Iy",
        "outputId": "6df5cc55-50ca-4387-f911-f9cbbb6e9c20"
      },
      "outputs": [],
      "source": [
        "classify_images_our_version(image_1[0],image_2[0])"
      ]
    },
    {
      "cell_type": "code",
      "execution_count": null,
      "metadata": {
        "colab": {
          "base_uri": "https://localhost:8080/"
        },
        "id": "GjerCiAxJsQr",
        "outputId": "46d3b844-53eb-4290-f448-397eec85045d"
      },
      "outputs": [],
      "source": [
        "read_image_label(\"/content/drive/MyDrive/capstone_project/selected/RGBFace/train_new/class_1/1.jpg\")"
      ]
    },
    {
      "cell_type": "code",
      "execution_count": null,
      "metadata": {
        "id": "58mkWqfZQIXU"
      },
      "outputs": [],
      "source": [
        "import os\n",
        "\n",
        "def get_image_paths(directory):\n",
        "    \"\"\"\n",
        "    Takes a directory path as an argument and returns a list of all image file paths within the directory and its subdirectories.\n",
        "    \"\"\"\n",
        "    # Define a list to store the image file paths\n",
        "    image_paths = []\n",
        "\n",
        "    # Iterate over all the directories and files within the given directory\n",
        "    for root, dirs, files in os.walk(directory):\n",
        "        # Iterate over all the files within the current directory\n",
        "        for file in files:\n",
        "            # Check if the file is an image file\n",
        "            if file.endswith(\".jpg\") or file.endswith(\".jpeg\") or file.endswith(\".png\"):\n",
        "                # Construct the full path to the image file and append it to the list\n",
        "                image_path = os.path.join(root, file)\n",
        "                image_paths.append(image_path)\n",
        "\n",
        "    # Return the list of image file paths\n",
        "    return image_paths\n",
        "\n",
        "train_new_dir = \"/content/drive/MyDrive/capstone_project/selected/RGBFace/train_new\"\n",
        "\n",
        "test_new_dir = \"/content/drive/MyDrive/capstone_project/selected/RGBFace/test_new\"\n",
        "\n",
        "# image_paths_of_train = get_image_paths(train_new_dir)\n",
        "# image_paths_of_train = get_image_paths(test_new_dir)\n"
      ]
    },
    {
      "cell_type": "code",
      "execution_count": null,
      "metadata": {
        "colab": {
          "base_uri": "https://localhost:8080/"
        },
        "id": "WmyRXoM_rU2X",
        "outputId": "5b405963-5a31-4051-e058-a82d6e5cf767"
      },
      "outputs": [],
      "source": [
        "image_paths_of_train = get_image_paths(train_new_dir)\n",
        "image_paths_of_test = get_image_paths(test_new_dir)\n",
        "\n",
        "\n",
        "truth=[]\n",
        "predict=[]\n",
        "same_disssimilarity=[]\n",
        "different_disssimilarity=[]\n",
        "count_label_test = []\n",
        "count_label_train = []\n",
        "count = 0\n",
        "\n",
        "for image_test_path in image_paths_of_test:\n",
        "  image_test,label_test=read_image_label(image_test_path)\n",
        "  count_label_test.append(label_test)\n",
        "  for image_train_path in image_paths_of_train:\n",
        "    print(count)\n",
        "    image_train, label_train = read_image_label(image_train_path)\n",
        "    count_label_train.append(label_train)\n",
        "    euclidean_distance = classify_images_our_version(image_test,image_train)\n",
        "    predict.append(euclidean_distance)\n",
        "    if label_test==label_train: # if labels of two images are same append them to same_dissimilar\n",
        "      same_disssimilarity.append(euclidean_distance)\n",
        "    else:\n",
        "      different_disssimilarity.append(euclidean_distance)\n",
        "    count += 1"
      ]
    },
    {
      "cell_type": "code",
      "execution_count": null,
      "metadata": {
        "id": "E3MrgP4jUWzo"
      },
      "outputs": [],
      "source": [
        "# checking if there are any intersection in same and different images\n",
        "print(\"Number of total interesection: \", len(intersection(same_disssimilarity,different_disssimilarity)))"
      ]
    },
    {
      "cell_type": "code",
      "execution_count": null,
      "metadata": {
        "id": "D7wMSSerd-CI"
      },
      "outputs": [],
      "source": [
        "(64944*3)/60"
      ]
    },
    {
      "cell_type": "code",
      "execution_count": null,
      "metadata": {
        "id": "WfifxIuFeMt1"
      },
      "outputs": [],
      "source": []
    }
  ],
  "metadata": {
    "accelerator": "GPU",
    "colab": {
      "provenance": []
    },
    "gpuClass": "standard",
    "kernelspec": {
      "display_name": "Python 3",
      "language": "python",
      "name": "python3"
    },
    "language_info": {
      "codemirror_mode": {
        "name": "ipython",
        "version": 3
      },
      "file_extension": ".py",
      "mimetype": "text/x-python",
      "name": "python",
      "nbconvert_exporter": "python",
      "pygments_lexer": "ipython3",
      "version": "3.9.0"
    }
  },
  "nbformat": 4,
  "nbformat_minor": 0
}
