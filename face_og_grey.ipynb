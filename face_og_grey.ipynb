{
 "cells": [
  {
   "attachments": {},
   "cell_type": "markdown",
   "id": "57540f8b",
   "metadata": {},
   "source": [
    "### Importing required libaries"
   ]
  },
  {
   "cell_type": "code",
   "execution_count": 15,
   "id": "3f5afef6-f4c2-4d5b-8e26-82004ab78cf6",
   "metadata": {
    "executionInfo": {
     "elapsed": 2284,
     "status": "ok",
     "timestamp": 1676059011499,
     "user": {
      "displayName": "Akshat Garg",
      "userId": "01526156287295178218"
     },
     "user_tz": 300
    },
    "id": "3f5afef6-f4c2-4d5b-8e26-82004ab78cf6"
   },
   "outputs": [],
   "source": [
    "%matplotlib inline\n",
    "import matplotlib.pyplot as plt\n",
    "import numpy as np\n",
    "import random\n",
    "from PIL import Image\n",
    "import PIL.ImageOps    \n",
    "import os\n",
    "\n",
    "import torchvision\n",
    "import torchvision.datasets as datasets\n",
    "import torchvision.transforms as transforms\n",
    "from torch.utils.data import DataLoader, Dataset\n",
    "import torchvision.utils\n",
    "import torch\n",
    "from torch.autograd import Variable\n",
    "import torch.nn as nn\n",
    "from torch import optim\n",
    "import torch.nn.functional as F\n",
    "\n",
    "from models.old_model import SiameseNetwork\n",
    "\n",
    "from losses.euclidean import ContrastiveLoss\n",
    "from losses.cosine import ContrastiveLossCosine\n",
    "\n",
    "from utils.vis_utils import imshow, show_plot\n",
    "from utils.other_utils import joinpath, SiameseNetworkDataset, SiameseNetworkDataset_for_test, get_dataset\n",
    "from utils.other_utils import intersection\n"
   ]
  },
  {
   "cell_type": "code",
   "execution_count": 16,
   "id": "395a1e44",
   "metadata": {},
   "outputs": [],
   "source": [
    "# Setup the path where images are located\n",
    "PATH = r\"H:\\capstone_code\\data\\faces\"\n",
    "\n",
    "\n",
    "# Setup the number of channels in the image, 3 for color, 1 for monochrome\n",
    "nchannel=1\n",
    "\n",
    "# no of epoch\n",
    "EPOCH = 25"
   ]
  },
  {
   "cell_type": "code",
   "execution_count": 17,
   "id": "508c7240-a7fd-48c0-929f-1c67948cd4c3",
   "metadata": {
    "executionInfo": {
     "elapsed": 4,
     "status": "ok",
     "timestamp": 1676059011499,
     "user": {
      "displayName": "Akshat Garg",
      "userId": "01526156287295178218"
     },
     "user_tz": 300
    },
    "id": "508c7240-a7fd-48c0-929f-1c67948cd4c3"
   },
   "outputs": [],
   "source": [
    "# def imshow(img, text=None):\n",
    "#     \"\"\"\n",
    "#     This is a helper function to show images\n",
    "#     \"\"\"\n",
    "#     plt.figure()\n",
    "#     npimg = img.numpy()\n",
    "#     plt.axis(\"off\")\n",
    "#     if text:\n",
    "#         plt.text(75, 8, text, style='italic',fontweight='bold',\n",
    "#             bbox={'facecolor':'white', 'alpha':0.8, 'pad':10})\n",
    "        \n",
    "#     plt.imshow(np.transpose(npimg, (1, 2, 0)))\n",
    "#     plt.show()    \n",
    "                         \n",
    "# def show_plot(iteration,loss):\n",
    "#     \"\"\"\n",
    "#     This is a helper function to plot loss for any given run\n",
    "#     \"\"\"\n",
    "#     plt.plot(iteration,loss)\n",
    "#     plt.show()"
   ]
  },
  {
   "attachments": {},
   "cell_type": "markdown",
   "id": "0b41ccbb-d03a-4b40-be8a-7b03008c7ce0",
   "metadata": {
    "id": "0b41ccbb-d03a-4b40-be8a-7b03008c7ce0"
   },
   "source": [
    "It will read two images and return them, as well as their label. \n",
    "If they are in the same category, i.e. the same person, \n",
    "it will return 0, and otherwise, it will return 1."
   ]
  },
  {
   "cell_type": "code",
   "execution_count": 18,
   "id": "3e9e2eb3-e824-4c94-a580-b2a42efc9d54",
   "metadata": {
    "executionInfo": {
     "elapsed": 4,
     "status": "ok",
     "timestamp": 1676059011499,
     "user": {
      "displayName": "Akshat Garg",
      "userId": "01526156287295178218"
     },
     "user_tz": 300
    },
    "id": "3e9e2eb3-e824-4c94-a580-b2a42efc9d54"
   },
   "outputs": [],
   "source": [
    "# class SiameseNetworkDataset(Dataset):   \n",
    "#     def __init__(self,imageFolderDataset,transform=None):\n",
    "#         self.imageFolderDataset = imageFolderDataset    \n",
    "#         self.transform = transform\n",
    "        \n",
    "#     def __getitem__(self,index):\n",
    "#         img0_tuple = random.choice(self.imageFolderDataset.imgs)\n",
    "\n",
    "#         #We need to approximately 50% of images to be in the same class\n",
    "#         should_get_same_class = random.randint(0,1) \n",
    "#         if should_get_same_class:\n",
    "#             while True:\n",
    "#                 #Look untill the same class image is found\n",
    "#                 img1_tuple = random.choice(self.imageFolderDataset.imgs) \n",
    "#                 if img0_tuple[1] == img1_tuple[1]:\n",
    "#                     break\n",
    "#         else:\n",
    "\n",
    "#             while True:\n",
    "#                 #Look untill a different class image is found\n",
    "#                 img1_tuple = random.choice(self.imageFolderDataset.imgs) \n",
    "#                 if img0_tuple[1] != img1_tuple[1]:\n",
    "#                     break\n",
    "\n",
    "#         img0 = Image.open(img0_tuple[0])\n",
    "#         img1 = Image.open(img1_tuple[0])\n",
    "        \n",
    "#         #Convert to grayscake\n",
    "# #         img0 = img0.convert(\"L\")\n",
    "# #         img1 = img1.convert(\"L\")\n",
    "\n",
    "#         if self.transform is not None:\n",
    "#             img0 = self.transform(img0)\n",
    "#             img1 = self.transform(img1)\n",
    "        \n",
    "#         return img0, img1, torch.from_numpy(np.array([int(img1_tuple[1] != img0_tuple[1])], dtype=np.float32))\n",
    "    \n",
    "#     def __len__(self):\n",
    "#         return len(self.imageFolderDataset.imgs)"
   ]
  },
  {
   "attachments": {},
   "cell_type": "markdown",
   "id": "f0c5e5e9",
   "metadata": {},
   "source": [
    "It will read one image at a time and return its label based on the folder it is present"
   ]
  },
  {
   "cell_type": "code",
   "execution_count": 19,
   "id": "00480328",
   "metadata": {},
   "outputs": [],
   "source": [
    "# class SiameseNetworkDataset_for_test(Dataset):\n",
    "#     def __init__(self,imageFolderDataset,transform=None):\n",
    "#         self.imageFolderDataset = imageFolderDataset    \n",
    "#         self.transform = transform\n",
    "        \n",
    "#     def __getitem__(self,index):\n",
    "#         img0_tuple = self.imageFolderDataset.imgs[index] # one image\n",
    "#         img0 = Image.open(img0_tuple[0])\n",
    "\n",
    "#         # getting which classes represent which index\n",
    "#         d = {v: k for k, v in self.imageFolderDataset.class_to_idx.items()}\n",
    "\n",
    "#         # label returned with class name rather than class index\n",
    "#         label = d.get(img0_tuple[1])\n",
    "\n",
    "\n",
    "#         if self.transform is not None:\n",
    "#             img0 = self.transform(img0)\n",
    "        \n",
    "#         return img0,label\n",
    "    \n",
    "#     def __len__(self):\n",
    "#         return len(self.imageFolderDataset.imgs)"
   ]
  },
  {
   "cell_type": "markdown",
   "id": "d4f75212-c987-41a0-83c5-6af128119b12",
   "metadata": {
    "id": "d4f75212-c987-41a0-83c5-6af128119b12"
   },
   "source": [
    "Initialize the dataset by calling the ImageFolderfunction and passing the path to the training set. \n",
    "Define a simple transformation of only a resize and transformation to tensors. \n",
    "Call  custom class and pass in the transformation, as well as the folder_dataset created at the top"
   ]
  },
  {
   "cell_type": "code",
   "execution_count": 20,
   "id": "e35147f3",
   "metadata": {},
   "outputs": [],
   "source": [
    "# Resize the images and transform to tensors\n",
    "transformation = transforms.Compose([transforms.Resize((100,100)),\n",
    "                                     transforms.ToTensor()])"
   ]
  },
  {
   "cell_type": "code",
   "execution_count": 21,
   "id": "bf4838ab-74c4-4aed-bb11-f8b22d8e2769",
   "metadata": {
    "executionInfo": {
     "elapsed": 3,
     "status": "ok",
     "timestamp": 1676059011499,
     "user": {
      "displayName": "Akshat Garg",
      "userId": "01526156287295178218"
     },
     "user_tz": 300
    },
    "id": "bf4838ab-74c4-4aed-bb11-f8b22d8e2769"
   },
   "outputs": [],
   "source": [
    "# # Load the training dataset\n",
    "# folder_dataset = datasets.ImageFolder(root=joinpath(PATH,'train'))\n",
    "\n",
    "\n",
    "# # Initialize the network\n",
    "# siamese_dataset = SiameseNetworkDataset(imageFolderDataset=folder_dataset,\n",
    "#                                         transform=transformation)"
   ]
  },
  {
   "attachments": {},
   "cell_type": "markdown",
   "id": "2ab895c3-3d3c-42e7-9389-8390892db4ee",
   "metadata": {
    "id": "2ab895c3-3d3c-42e7-9389-8390892db4ee"
   },
   "source": [
    "For simple visualization purposes let’s look at this example.  \n",
    "Create a DataLoader of the siamese_dataset and extract the first batch only.  \n",
    "Combine each combination of images, because our siamese_datasetwill return two images and one label, and print out the labels."
   ]
  },
  {
   "cell_type": "code",
   "execution_count": 22,
   "id": "f6e26331-cc2a-4e43-8ab0-39a6fae22d8d",
   "metadata": {
    "colab": {
     "base_uri": "https://localhost:8080/"
    },
    "executionInfo": {
     "elapsed": 3,
     "status": "ok",
     "timestamp": 1676059011499,
     "user": {
      "displayName": "Akshat Garg",
      "userId": "01526156287295178218"
     },
     "user_tz": 300
    },
    "id": "f6e26331-cc2a-4e43-8ab0-39a6fae22d8d",
    "outputId": "5fe8ef18-9726-48b5-be94-f63f6ca5f74b"
   },
   "outputs": [
    {
     "data": {
      "text/plain": [
       "16"
      ]
     },
     "execution_count": 22,
     "metadata": {},
     "output_type": "execute_result"
    }
   ],
   "source": [
    "os.cpu_count() #cpu count"
   ]
  },
  {
   "cell_type": "code",
   "execution_count": 23,
   "id": "d84ce131-c478-4d0b-ba0d-d3c7b423079b",
   "metadata": {
    "colab": {
     "base_uri": "https://localhost:8080/",
     "height": 132
    },
    "executionInfo": {
     "elapsed": 1523,
     "status": "ok",
     "timestamp": 1676059013019,
     "user": {
      "displayName": "Akshat Garg",
      "userId": "01526156287295178218"
     },
     "user_tz": 300
    },
    "id": "d84ce131-c478-4d0b-ba0d-d3c7b423079b",
    "outputId": "e51b8c38-0697-4ee3-d0d5-797c7863229a",
    "scrolled": true
   },
   "outputs": [
    {
     "data": {
      "image/png": "[encoded data removed]",
      "text/plain": [
       "<Figure size 640x480 with 1 Axes>"
      ]
     },
     "metadata": {},
     "output_type": "display_data"
    },
    {
     "name": "stdout",
     "output_type": "stream",
     "text": [
      "[1. 1. 1. 1. 1. 0. 0. 0.]\n"
     ]
    }
   ],
   "source": [
    "# Create a simple dataloader just for simple visualization\n",
    "# vis_dataloader = DataLoader(siamese_dataset,\n",
    "#                         shuffle=True,\n",
    "#                         num_workers=0, # Number of CPU to engage\n",
    "#                         batch_size=8)\n",
    "\n",
    "vis_dataloader,_ = get_dataset(joinpath(PATH,'train'),transformation,SiameseNetworkDataset,0,8,True)\n",
    "\n",
    "# Extract one batch\n",
    "example_batch = next(iter(vis_dataloader))\n",
    "\n",
    "# Example batch is a list containing 2x8 images, indexes 0 and 1, an also the label\n",
    "# If the label is 1, it means that it is not the same person, label is 0, same person in both images\n",
    "concatenated = torch.cat((example_batch[0], example_batch[1]),0)\n",
    "\n",
    "imshow(torchvision.utils.make_grid(concatenated))\n",
    "print(example_batch[2].numpy().reshape(-1))"
   ]
  },
  {
   "cell_type": "code",
   "execution_count": 24,
   "id": "ee738a47-f694-439d-a61c-fab39c49a803",
   "metadata": {
    "executionInfo": {
     "elapsed": 252,
     "status": "ok",
     "timestamp": 1676059013269,
     "user": {
      "displayName": "Akshat Garg",
      "userId": "01526156287295178218"
     },
     "user_tz": 300
    },
    "id": "ee738a47-f694-439d-a61c-fab39c49a803"
   },
   "outputs": [],
   "source": [
    "# #create the Siamese Neural Network\n",
    "# class SiameseNetwork(nn.Module):\n",
    "\n",
    "#     def __init__(self):\n",
    "#         super(SiameseNetwork, self).__init__()\n",
    "\n",
    "#         # Setting up the Sequential of CNN Layers\n",
    "#         self.cnn1 = nn.Sequential(\n",
    "#             nn.Conv2d(nchannel, 96, kernel_size=11,stride=4),\n",
    "#             nn.ReLU(inplace=True),\n",
    "#             nn.MaxPool2d(3, stride=2),\n",
    "            \n",
    "#             nn.Conv2d(96, 256, kernel_size=5, stride=1),\n",
    "#             nn.ReLU(inplace=True),\n",
    "#             nn.MaxPool2d(2, stride=2),\n",
    "\n",
    "#             nn.Conv2d(256, 384, kernel_size=3,stride=1),\n",
    "#             nn.ReLU(inplace=True)\n",
    "#         )\n",
    "\n",
    "#         # Setting up the Fully Connected Layers\n",
    "#         self.fc1 = nn.Sequential(\n",
    "#             nn.Linear(384, 1024),\n",
    "#             nn.ReLU(inplace=True),\n",
    "            \n",
    "#             nn.Linear(1024, 256),\n",
    "#             nn.ReLU(inplace=True),\n",
    "            \n",
    "#             nn.Linear(256,128)\n",
    "#         )\n",
    "# # we pass two images through the same network.\n",
    "# # This forward_oncefunction, called inside the forwardfunction, will take an image as input and pass it into the network. \n",
    "# # The output is stored into output1and the output from the second image is stored into output2, as we can see in the forwardfunction. \n",
    "# # In this way, we have managed to input two images and get two outputs from our model.   \n",
    "        \n",
    "#     def forward_once(self, x):\n",
    "#         # This function will be called for both images\n",
    "#         # Its output is used to determine the similiarity\n",
    "#         output = self.cnn1(x)\n",
    "#         output = output.view(output.size()[0], -1)\n",
    "#         output = self.fc1(output)\n",
    "#         return output\n",
    "\n",
    "#     def forward(self, input1, input2):\n",
    "#         # In this function we pass in both images and obtain both vectors\n",
    "#         # which are returned\n",
    "#         output1 = self.forward_once(input1)\n",
    "#         output2 = self.forward_once(input2)\n",
    "\n",
    "#         return output1, output2\n",
    "        \n",
    "\n",
    "\n",
    "# ## New architecture, TODO: still in testing\n",
    "# # class SiameseNetwork(nn.Module):\n",
    "# #     def __init__(self):\n",
    "# #         super(SiameseNetwork, self).__init__()\n",
    "# #         # Setting up the Sequential of CNN Layers\n",
    "# #         self.cnn1 = nn.Sequential(\n",
    "# #             nn.Conv2d(nchannel, 96, kernel_size=5, stride=2,),\n",
    "# #             nn.BatchNorm2d(96),\n",
    "# #             nn.ReLU(inplace=True),\n",
    "# #             nn.MaxPool2d(2, stride=2),\n",
    "\n",
    "# #             nn.Conv2d(96, 256, kernel_size=3, stride=1),\n",
    "# #             nn.BatchNorm2d(256),\n",
    "# #             nn.ReLU(inplace=True),\n",
    "# #             nn.MaxPool2d(2, stride=2),\n",
    "\n",
    "# #             nn.Conv2d(256, 384, kernel_size=3, stride=1),\n",
    "# #             nn.BatchNorm2d(384),\n",
    "# #             nn.ReLU(inplace=True),\n",
    "\n",
    "# #             nn.Conv2d(384, 512, kernel_size=1, stride=1),\n",
    "# #             nn.BatchNorm2d(512),\n",
    "# #             nn.ReLU(inplace=True),\n",
    "# #             nn.MaxPool2d(2, stride=2),\n",
    "\n",
    "# #             nn.Conv2d(512, 256, kernel_size=3, stride=1),\n",
    "# #             nn.ReLU(inplace=True)\n",
    "\n",
    "# #         )\n",
    "\n",
    "# #         self.fc1 = nn.Sequential(\n",
    "\n",
    "# #             nn.Linear(1024,2048),\n",
    "# #             nn.ReLU(inplace=True),\n",
    "# #             nn.Dropout(0.2),\n",
    "\n",
    "            \n",
    "# #             nn.Linear(2048, 1024),\n",
    "# #             nn.ReLU(inplace=True),\n",
    "# #             nn.Dropout(0.2),\n",
    "\n",
    "# #             nn.Linear(1024, 256),\n",
    "# #             nn.ReLU(inplace=True),\n",
    " \n",
    "# #             nn.Linear(256,128)\n",
    "# #         )\n",
    "# #     def forward_once(self, x):\n",
    "# #         x = self.cnn1(x)\n",
    "# #         x = x.view(x.size()[0], -1)\n",
    "# #         x = self.fc1(x)\n",
    "# #         return x\n",
    "# #     def forward(self, input1, input2):\n",
    "# #         output1 = self.forward_once(input1)\n",
    "# #         output2 = self.forward_once(input2)\n",
    "# #         return output1, output2"
   ]
  },
  {
   "attachments": {},
   "cell_type": "markdown",
   "id": "ea22dd7d-fccd-4c31-9d99-18855f993caa",
   "metadata": {
    "id": "ea22dd7d-fccd-4c31-9d99-18855f993caa"
   },
   "source": [
    "### Contrastive Loss Function\n",
    "How do we calculate the distance or the dissimilarity between these two vectors?\n",
    "\n",
    "Let’s look at an example when both \\(x^{(i)}\\) and \\(x^{(j)}\\) are of the same person, I will denote these two images as \\(A\\) and \\(B\\). In this case, we want \\(d\\) to be a small value:\n",
    "\n",
    "\\(d(A, B) = ||f(A) – f(B)||^2\\)\n",
    "\n",
    "But, what happens when \\(x^{(i)}\\) and \\(x^{(j)}\\) are of different people, or a negative pair? Then the distance \\(d\\) should be large. In such a case, we will not apply the l2 distance norm, or distance function directly, but rather a hinge loss. Why is that?\n",
    "\n",
    "We want to separate \\(f(x^{(i)})\\) and \\(f(x^{(j)})\\) if they are of different people, but we want to separate them until we hit a certain margin \\(m\\). The idea behind this, is that we don’t actually want to push \\(f(x^{(i)})\\) and \\(f(x^{(j)})\\) further and further apart if they are already far from the margin \\(m\\).\n",
    "\n",
    "\\(d(A, B) = max(0, m^2 – ||f(A) – f(B)||^2)\\)\n",
    "\n",
    "Now, we combine the two together and end up with a formula that is called the Contrastive Loss Function.\n",
    "\n",
    "This function will calculate the similarity between the two vectors. As we mentioned earlier, the objective of the Siamese networks is not to classify, but rather to differentiate between the images. So a loss function like Cross-Entropy loss is not suitable for this problem.\n",
    "\n",
    "The Contrastive Loss function evaluates how well the network distinguishes a given pair of images. The function is defined as follows:\n",
    "\n",
    "\\(L(A, B, Y) = (Y)*||f(A) – f(B)||^2 + (1-Y)*\\{ max(0, m^2 – ||f(A) – f(B)||^2)\\}\\)\n",
    "\n",
    "Looking at the equation at the top, \\(Y\\) here indicates the label. The label will be 1 if the two images are of the same person, and 0 if the images are of different persons.\n",
    "\n",
    "The equation has two parts. One positive part, when the two images are of the same people, and one negative part, when the two images are of different people.\n",
    "\n",
    "From left to right, the first part of the formula is the positive pair, we know when the two images are of the same person, our \\(Y\\) will be 1. We want to minimize the distance between these two embeddings when the two images are of the same person. So the first part of the equation will be used, but the second part will be ignored because \\((1-Y)\\) will equal to \\(0\\).\n",
    "\n",
    "When we actually have a negative pair, \\(Y\\) is equal to 0, the left part is ignored and the second part is used. Here we apply the hinge loss, because of the reason mentioned above, and we separate our embeddings further and further away until we hit the margin \\(M\\).\n",
    "\n",
    "The output of this equation will be the value that will indicate if the two images are of the same person or not, the same category or not.\n",
    "\n",
    "This loss function is so to say, the most basic function for learning similarity. Still, even being the most basic, it can solve most of the similarity problems. \n"
   ]
  },
  {
   "cell_type": "code",
   "execution_count": 25,
   "id": "597e8736-b7ef-46eb-b5b5-6b8ae2d47dcb",
   "metadata": {
    "executionInfo": {
     "elapsed": 2,
     "status": "ok",
     "timestamp": 1676059013270,
     "user": {
      "displayName": "Akshat Garg",
      "userId": "01526156287295178218"
     },
     "user_tz": 300
    },
    "id": "597e8736-b7ef-46eb-b5b5-6b8ae2d47dcb"
   },
   "outputs": [],
   "source": [
    "# # Define the Contrastive Loss Function with Euclidean Distance\n",
    "# class ContrastiveLoss(torch.nn.Module):\n",
    "#     def __init__(self, margin=2.0):\n",
    "#         super(ContrastiveLoss, self).__init__()\n",
    "#         self.margin = margin\n",
    "\n",
    "#     def forward(self, output1, output2, label):\n",
    "#       # Calculate the euclidean distance and calculate the contrastive loss\n",
    "#       euclidean_distance = F.pairwise_distance(output1, output2, keepdim = True)\n",
    "\n",
    "#       loss_contrastive = torch.mean((1-label) * torch.pow(euclidean_distance, 2) +\n",
    "#                                     (label) * torch.pow(torch.clamp(self.margin - euclidean_distance, min=0.0), 2))\n",
    "\n",
    "\n",
    "#       return loss_contrastive"
   ]
  },
  {
   "cell_type": "code",
   "execution_count": 26,
   "id": "2a07e636",
   "metadata": {},
   "outputs": [],
   "source": [
    "# # Defining Contrastive loss with Cosine Similarity \n",
    "# class ContrastiveLossCosine(torch.nn.Module):\n",
    "#     def __init__(self, margin=0.5):\n",
    "#         super(ContrastiveLossCosine, self).__init__()\n",
    "#         self.margin = margin\n",
    "    \n",
    "#     def forward(self, output1, output2, label):\n",
    "#         cosine_sim = torch.cosine_similarity(output1, output2)\n",
    "#         cosine_sim = 1 - cosine_sim\n",
    "#         loss = torch.mean((1 - label) * torch.pow(cosine_sim, 2) + \n",
    "#                           label * torch.pow(torch.clamp(self.margin - cosine_sim, min=0.0), 2))\n",
    "#         return loss\n",
    "\n",
    "        "
   ]
  },
  {
   "cell_type": "markdown",
   "id": "da66f278-438c-40e4-99c7-fbe6d8599962",
   "metadata": {
    "id": "da66f278-438c-40e4-99c7-fbe6d8599962"
   },
   "source": [
    "Now that we defined the loss function that we will use, our next step would be definining the data that we will use for the training, and create a data loader object. It will accept our siamese_datasetand also shuffle our data. We will set the num_workersto 8 and also the batch_size to 64.\n",
    "\n",
    "We will also initialize our model, as well as the loss and optimizer."
   ]
  },
  {
   "cell_type": "code",
   "execution_count": 27,
   "id": "bdf3817c-63e1-4f42-9a3c-929c7507bf73",
   "metadata": {
    "executionInfo": {
     "elapsed": 3004,
     "status": "ok",
     "timestamp": 1676059016272,
     "user": {
      "displayName": "Akshat Garg",
      "userId": "01526156287295178218"
     },
     "user_tz": 300
    },
    "id": "bdf3817c-63e1-4f42-9a3c-929c7507bf73"
   },
   "outputs": [],
   "source": [
    "# Load the training dataset\n",
    "# train_dataloader = DataLoader(siamese_dataset,\n",
    "#                         shuffle=True,\n",
    "#                         num_workers=0,\n",
    "#                         batch_size=64)\n",
    "\n",
    "train_dataloader,_ = get_dataset(joinpath(PATH,'train'), transformation, SiameseNetworkDataset, 0, 64, True)\n",
    "net = SiameseNetwork(nchannel).cuda()\n",
    "criterion = ContrastiveLoss()\n",
    "optimizer = optim.Adam(net.parameters(), lr = 0.0005 )"
   ]
  },
  {
   "cell_type": "code",
   "execution_count": 28,
   "id": "6613814b-79bf-4815-ac56-000b748121c8",
   "metadata": {
    "colab": {
     "base_uri": "https://localhost:8080/"
    },
    "executionInfo": {
     "elapsed": 6,
     "status": "ok",
     "timestamp": 1676059016273,
     "user": {
      "displayName": "Akshat Garg",
      "userId": "01526156287295178218"
     },
     "user_tz": 300
    },
    "id": "6613814b-79bf-4815-ac56-000b748121c8",
    "outputId": "091d0e7f-31c9-4b46-919e-51025109cac9"
   },
   "outputs": [
    {
     "name": "stdout",
     "output_type": "stream",
     "text": [
      "SiameseNetwork(\n",
      "  (cnn1): Sequential(\n",
      "    (0): Conv2d(1, 96, kernel_size=(11, 11), stride=(4, 4))\n",
      "    (1): ReLU(inplace=True)\n",
      "    (2): MaxPool2d(kernel_size=3, stride=2, padding=0, dilation=1, ceil_mode=False)\n",
      "    (3): Conv2d(96, 256, kernel_size=(5, 5), stride=(1, 1))\n",
      "    (4): ReLU(inplace=True)\n",
      "    (5): MaxPool2d(kernel_size=2, stride=2, padding=0, dilation=1, ceil_mode=False)\n",
      "    (6): Conv2d(256, 384, kernel_size=(3, 3), stride=(1, 1))\n",
      "    (7): ReLU(inplace=True)\n",
      "  )\n",
      "  (fc1): Sequential(\n",
      "    (0): Linear(in_features=384, out_features=1024, bias=True)\n",
      "    (1): ReLU(inplace=True)\n",
      "    (2): Linear(in_features=1024, out_features=256, bias=True)\n",
      "    (3): ReLU(inplace=True)\n",
      "    (4): Linear(in_features=256, out_features=128, bias=True)\n",
      "  )\n",
      ")\n"
     ]
    }
   ],
   "source": [
    "print(net)"
   ]
  },
  {
   "cell_type": "code",
   "execution_count": 29,
   "id": "1bb9d7c7-1e38-494e-be27-9b2c82dec605",
   "metadata": {
    "colab": {
     "base_uri": "https://localhost:8080/"
    },
    "executionInfo": {
     "elapsed": 2244,
     "status": "ok",
     "timestamp": 1676059018514,
     "user": {
      "displayName": "Akshat Garg",
      "userId": "01526156287295178218"
     },
     "user_tz": 300
    },
    "id": "1bb9d7c7-1e38-494e-be27-9b2c82dec605",
    "outputId": "332796ab-b312-4eb5-9d86-2ac93f2ffe7f"
   },
   "outputs": [
    {
     "name": "stdout",
     "output_type": "stream",
     "text": [
      "----------------------------------------------------------------\n",
      "        Layer (type)               Output Shape         Param #\n",
      "================================================================\n",
      "            Conv2d-1           [-1, 96, 23, 23]          11,712\n",
      "              ReLU-2           [-1, 96, 23, 23]               0\n",
      "         MaxPool2d-3           [-1, 96, 11, 11]               0\n",
      "            Conv2d-4            [-1, 256, 7, 7]         614,656\n",
      "              ReLU-5            [-1, 256, 7, 7]               0\n",
      "         MaxPool2d-6            [-1, 256, 3, 3]               0\n",
      "            Conv2d-7            [-1, 384, 1, 1]         885,120\n",
      "              ReLU-8            [-1, 384, 1, 1]               0\n",
      "            Linear-9                 [-1, 1024]         394,240\n",
      "             ReLU-10                 [-1, 1024]               0\n",
      "           Linear-11                  [-1, 256]         262,400\n",
      "             ReLU-12                  [-1, 256]               0\n",
      "           Linear-13                  [-1, 128]          32,896\n",
      "           Conv2d-14           [-1, 96, 23, 23]          11,712\n",
      "             ReLU-15           [-1, 96, 23, 23]               0\n",
      "        MaxPool2d-16           [-1, 96, 11, 11]               0\n",
      "           Conv2d-17            [-1, 256, 7, 7]         614,656\n",
      "             ReLU-18            [-1, 256, 7, 7]               0\n",
      "        MaxPool2d-19            [-1, 256, 3, 3]               0\n",
      "           Conv2d-20            [-1, 384, 1, 1]         885,120\n",
      "             ReLU-21            [-1, 384, 1, 1]               0\n",
      "           Linear-22                 [-1, 1024]         394,240\n",
      "             ReLU-23                 [-1, 1024]               0\n",
      "           Linear-24                  [-1, 256]         262,400\n",
      "             ReLU-25                  [-1, 256]               0\n",
      "           Linear-26                  [-1, 128]          32,896\n",
      "================================================================\n",
      "Total params: 4,402,048\n",
      "Trainable params: 4,402,048\n",
      "Non-trainable params: 0\n",
      "----------------------------------------------------------------\n",
      "Input size (MB): 381.47\n",
      "Forward/backward pass size (MB): 2.20\n",
      "Params size (MB): 16.79\n",
      "Estimated Total Size (MB): 400.46\n",
      "----------------------------------------------------------------\n"
     ]
    }
   ],
   "source": [
    "from torchsummary import summary\n",
    "# summary(net, [(3, 100, 100), (3, 100, 100)])\n",
    "summary(net, [(nchannel, 100, 100), (nchannel, 100, 100)])"
   ]
  },
  {
   "attachments": {},
   "cell_type": "markdown",
   "id": "280bd7bb-a4b3-4d27-81fb-d7858470b631",
   "metadata": {
    "id": "280bd7bb-a4b3-4d27-81fb-d7858470b631"
   },
   "source": [
    "Following the flow diagram from the top, we can start creating the training loop. We iterate 200 times and extract the two images as well as the label. We zero the gradients and pass our two images into the network, and the network outputs two vectors. The two vectors, and the label, are then fed into the criterion (loss function) that we defined. We backpropagate and optimize. For some visualization purposes and to see how our model is performing on the training set, so we will print the loss every 10 batches."
   ]
  },
  {
   "cell_type": "code",
   "execution_count": 30,
   "id": "9f8bbbe7-4227-4c25-92f4-777fb8cda823",
   "metadata": {
    "colab": {
     "base_uri": "https://localhost:8080/",
     "height": 484
    },
    "executionInfo": {
     "elapsed": 133071,
     "status": "error",
     "timestamp": 1676059151582,
     "user": {
      "displayName": "Akshat Garg",
      "userId": "01526156287295178218"
     },
     "user_tz": 300
    },
    "id": "9f8bbbe7-4227-4c25-92f4-777fb8cda823",
    "outputId": "810e1b90-c48f-4eec-9854-30edd06df750",
    "scrolled": true,
    "tags": []
   },
   "outputs": [],
   "source": [
    "def train(epochs = EPOCH):\n",
    "\n",
    "    counter = []\n",
    "    loss_history = [] \n",
    "    iteration_number= 0\n",
    "\n",
    "    # Iterate throught the epochs\n",
    "    for epoch in range(epochs):\n",
    "\n",
    "    # Iterate over batches\n",
    "        for i, (img0, img1, label) in enumerate(train_dataloader, 0):\n",
    "\n",
    "            # Send the images and labels to CUDA\n",
    "            img0, img1, label = img0.cuda(), img1.cuda(), label.cuda()\n",
    "\n",
    "            # Zero the gradients\n",
    "            optimizer.zero_grad()\n",
    "\n",
    "            # Pass in the two images into the network and obtain two outputs\n",
    "            output1, output2 = net(img0, img1)\n",
    "\n",
    "            # Pass the outputs of the networks and label into the loss function\n",
    "            loss_contrastive = criterion(output1, output2, label)\n",
    "\n",
    "            # Calculate the backpropagation\n",
    "            loss_contrastive.backward()\n",
    "\n",
    "            # Optimize\n",
    "            optimizer.step()\n",
    "\n",
    "            # Every 10 batches print out the loss\n",
    "            if i % 10 == 0 :\n",
    "                print(f\"Epoch number {epoch}\\n Current loss {loss_contrastive.item()}\\n\")\n",
    "                iteration_number += 10\n",
    "\n",
    "                counter.append(iteration_number)\n",
    "                loss_history.append(loss_contrastive.item())\n",
    "    return (counter,loss_history)"
   ]
  },
  {
   "cell_type": "code",
   "execution_count": 31,
   "id": "c31be89a-193d-4afc-a6a3-6d13106ed84d",
   "metadata": {
    "executionInfo": {
     "elapsed": 36,
     "status": "aborted",
     "timestamp": 1676059151583,
     "user": {
      "displayName": "Akshat Garg",
      "userId": "01526156287295178218"
     },
     "user_tz": 300
    },
    "id": "c31be89a-193d-4afc-a6a3-6d13106ed84d"
   },
   "outputs": [
    {
     "name": "stdout",
     "output_type": "stream",
     "text": [
      "Epoch number 0\n",
      " Current loss 1.8567217588424683\n",
      "\n",
      "Epoch number 1\n",
      " Current loss 1.542387843132019\n",
      "\n",
      "Epoch number 2\n",
      " Current loss 1.0581879615783691\n",
      "\n",
      "Epoch number 3\n",
      " Current loss 1.0514708757400513\n",
      "\n",
      "Epoch number 4\n",
      " Current loss 0.558803379535675\n",
      "\n",
      "Epoch number 5\n",
      " Current loss 0.6544421911239624\n",
      "\n",
      "Epoch number 6\n",
      " Current loss 0.5132447481155396\n",
      "\n",
      "Epoch number 7\n",
      " Current loss 0.3660910129547119\n",
      "\n",
      "Epoch number 8\n",
      " Current loss 0.5148946046829224\n",
      "\n",
      "Epoch number 9\n",
      " Current loss 0.608026385307312\n",
      "\n",
      "Epoch number 10\n",
      " Current loss 0.47962579131126404\n",
      "\n",
      "Epoch number 11\n",
      " Current loss 0.4908643960952759\n",
      "\n",
      "Epoch number 12\n",
      " Current loss 0.4578777253627777\n",
      "\n",
      "Epoch number 13\n",
      " Current loss 0.4733361005783081\n",
      "\n",
      "Epoch number 14\n",
      " Current loss 0.41532349586486816\n",
      "\n",
      "Epoch number 15\n",
      " Current loss 0.2979215383529663\n",
      "\n",
      "Epoch number 16\n",
      " Current loss 0.42527276277542114\n",
      "\n",
      "Epoch number 17\n",
      " Current loss 0.4132198691368103\n",
      "\n",
      "Epoch number 18\n",
      " Current loss 0.3294503092765808\n",
      "\n",
      "Epoch number 19\n",
      " Current loss 0.25520628690719604\n",
      "\n",
      "Epoch number 20\n",
      " Current loss 0.3507950007915497\n",
      "\n",
      "Epoch number 21\n",
      " Current loss 0.20856133103370667\n",
      "\n",
      "Epoch number 22\n",
      " Current loss 0.3739572763442993\n",
      "\n",
      "Epoch number 23\n",
      " Current loss 0.22910432517528534\n",
      "\n",
      "Epoch number 24\n",
      " Current loss 0.2816177010536194\n",
      "\n"
     ]
    },
    {
     "data": {
      "image/png": "[encoded data removed]",
      "text/plain": [
       "<Figure size 640x480 with 1 Axes>"
      ]
     },
     "metadata": {},
     "output_type": "display_data"
    }
   ],
   "source": [
    "counter,loss_history = train(EPOCH)\n",
    "# Plotting the loss vs epoch\n",
    "\n",
    "plt.figure()\n",
    "plt.title('Loss vs Epoch for euclidean distance')\n",
    "plt.xlabel(\"epoch\", fontsize=12)\n",
    "plt.ylabel(\"loss\", fontsize=12)\n",
    "show_plot(counter, loss_history)"
   ]
  },
  {
   "attachments": {},
   "cell_type": "markdown",
   "id": "395f7d45-e6db-4360-a4de-a53849607a7c",
   "metadata": {
    "id": "395f7d45-e6db-4360-a4de-a53849607a7c"
   },
   "source": [
    "We can now analyze the results. The first thing we can see is that the loss started around 1.6 and ended at a number pretty close to 0.\n",
    "\n",
    "It would be interesting to see the model in action. Now comes the part where we test our model on images it didn’t see before. As we have done before, we create a Siamese Network Dataset using our custom dataset class, but now we point it to the test folder.\n",
    "\n",
    "As the next steps, we extract the first image from the first batch of the test set and iterate over all the train images to check how it performs.\n",
    "\n",
    "We pass in the two images into the model and obtain two vectors, which are then passed into theF.pairwise_distance() function, this will calculate the euclidean distance between the two vectors. Using this distance, we can as a metric of how dissimilar the two faces are."
   ]
  },
  {
   "cell_type": "code",
   "execution_count": 32,
   "id": "f498e9c4",
   "metadata": {},
   "outputs": [],
   "source": [
    "# def get_dataset(path,transforms,SiameseNetworkDataset,batch_size,shuffle):\n",
    "#     folder_dataset = datasets.ImageFolder(root=path)\n",
    "#     siamese_dataset = SiameseNetworkDataset(imageFolderDataset=folder_dataset,\n",
    "#                                             transform=transforms)\n",
    "#     dataloader = DataLoader(siamese_dataset, batch_size=batch_size, shuffle=shuffle)\n",
    "#     return dataloader"
   ]
  },
  {
   "cell_type": "code",
   "execution_count": 34,
   "id": "34a2cb76",
   "metadata": {},
   "outputs": [
    {
     "ename": "NameError",
     "evalue": "name 'siamese_dataset_train' is not defined",
     "output_type": "error",
     "traceback": [
      "\u001b[1;31m---------------------------------------------------------------------------\u001b[0m",
      "\u001b[1;31mNameError\u001b[0m                                 Traceback (most recent call last)",
      "Cell \u001b[1;32mIn[34], line 20\u001b[0m\n\u001b[0;32m     16\u001b[0m dataiter_train \u001b[39m=\u001b[39m \u001b[39miter\u001b[39m(train_dataloader)\n\u001b[0;32m     18\u001b[0m score \u001b[39m=\u001b[39m []\n\u001b[1;32m---> 20\u001b[0m \u001b[39mfor\u001b[39;00m i \u001b[39min\u001b[39;00m \u001b[39mrange\u001b[39m(\u001b[39mlen\u001b[39m(siamese_dataset_train)):\n\u001b[0;32m     21\u001b[0m     \u001b[39m# Iterate over all images and test them with the first image (x0)\u001b[39;00m\n\u001b[0;32m     22\u001b[0m     x1,_ \u001b[39m=\u001b[39m \u001b[39mnext\u001b[39m(dataiter_train)\n\u001b[0;32m     24\u001b[0m     \u001b[39m# Concatenate the two images together\u001b[39;00m\n",
      "\u001b[1;31mNameError\u001b[0m: name 'siamese_dataset_train' is not defined"
     ]
    }
   ],
   "source": [
    "#### here we create dataiter for test\n",
    "\n",
    "# Locate the test dataset and load it into the SiameseNetworkDataset_for_test\n",
    "test_dataloader,_ = get_dataset(joinpath(PATH,'test'), transformation, SiameseNetworkDataset_for_test, 0, 1, True)\n",
    "\n",
    "# Grab one image that we are going to test\n",
    "dataiter = iter(test_dataloader)\n",
    "x0,_ = next(dataiter)\n",
    "\n",
    "\n",
    "#### here we create dataiter for train.\n",
    "\n",
    "# Locate the test dataset and load it into the SiameseNetworkDataset_for_test\n",
    "train_dataloader,siamese_dataset_train = get_dataset(joinpath(PATH,'train'), transformation, SiameseNetworkDataset_for_test, 0, 1, False)\n",
    "\n",
    "dataiter_train = iter(train_dataloader)\n",
    "\n",
    "score = []\n",
    "\n",
    "for i in range(len(siamese_dataset_train)):\n",
    "    # Iterate over all images and test them with the first image (x0)\n",
    "    x1,_ = next(dataiter_train)\n",
    "\n",
    "    # Concatenate the two images together\n",
    "    concatenated = torch.cat((x0, x1), 0)\n",
    "    \n",
    "    output1, output2 = net(x0.cuda(), x1.cuda())\n",
    "    euclidean_distance = F.pairwise_distance(output1, output2)\n",
    "    score.append(round(euclidean_distance.item(),2))\n",
    "    imshow(torchvision.utils.make_grid(concatenated), f'Dissimilarity: {euclidean_distance.item():.2f}')\n",
    "    # cosine_distance = torch.cosine_similarity(output1, output2)\n",
    "    # score.append(round(cosine_distance.item(),2))\n",
    "    # imshow(torchvision.utils.make_grid(concatenated), f'Dissimilarity: {cosine_distance.item():.2f}')"
   ]
  },
  {
   "attachments": {},
   "cell_type": "markdown",
   "id": "65021cd1",
   "metadata": {},
   "source": [
    "Now we test all the test images with all the train images and all combination are unique."
   ]
  },
  {
   "cell_type": "code",
   "execution_count": null,
   "id": "bafa7a0d",
   "metadata": {},
   "outputs": [],
   "source": [
    "#### here we create dataiter for test\n",
    "\n",
    "# Locate the test dataset and load it into the SiameseNetworkDataset\n",
    "\n",
    "folder_dataset_test = datasets.ImageFolder(root=joinpath(PATH,'test'))\n",
    "siamese_dataset = SiameseNetworkDataset_for_test(imageFolderDataset=folder_dataset_test,\n",
    "                                        transform=transformation)\n",
    "\n",
    "                                        \n",
    "test_dataloader = DataLoader(siamese_dataset, batch_size=1, shuffle=False)\n",
    "\n",
    "#### here we create dataiter for train\n",
    "\n",
    "# Locate the test dataset and load it into the SiameseNetworkDataset\n",
    "folder_dataset_train = datasets.ImageFolder(root=joinpath(PATH,'train'))\n",
    "siamese_dataset_train = SiameseNetworkDataset_for_test(imageFolderDataset=folder_dataset_train,\n",
    "                                        transform=transformation)\n",
    "\n",
    "                                        \n",
    "train_dataloader = DataLoader(siamese_dataset_train, batch_size=1, shuffle=False)\n",
    "\n",
    "\n",
    "\n",
    "truth=[]\n",
    "predict=[]\n",
    "same_disssimilarity=[]\n",
    "different_disssimilarity=[]\n",
    "count_label0 = []\n",
    "count_label1 = []\n",
    "\n",
    "\n",
    "dataiter = iter(test_dataloader)\n",
    "for i in range(len(siamese_dataset)):\n",
    "    \n",
    "    x0,label0 = next(dataiter)\n",
    "    count_label0.append(label0)\n",
    "    \n",
    "\n",
    "# Grab one image that we are going to test\n",
    "    dataiter_train = iter(train_dataloader)\n",
    "\n",
    "    for i in range(len(siamese_dataset_train)):\n",
    "    # Iterate over 5 images and test them with the first image (x0)\n",
    "        x1,label1 = next(dataiter_train)\n",
    "        count_label1.append(label1)\n",
    "\n",
    "        # Concatenate the two images together\n",
    "        concatenated = torch.cat((x0, x1), 0)\n",
    "\n",
    "        output1, output2 = net(x0.cuda(), x1.cuda())\n",
    "        euclidean_distance = F.pairwise_distance(output1, output2)\n",
    "        \n",
    "\n",
    "        predict.append(euclidean_distance.item())\n",
    "        if label0==label1: # if labels of two images are same append them to same_dissimilar\n",
    "            same_disssimilarity.append(euclidean_distance.item())\n",
    "        else:\n",
    "            different_disssimilarity.append(euclidean_distance.item())\n",
    "\n",
    "        # cosine_distance = torch.cosine_similarity(output1, output2)\n",
    "        # predict.append(cosine_distance.item())\n",
    "        # if label0==label1:\n",
    "        #     same_disssimilarity.append(cosine_distance.item())\n",
    "        # else:\n",
    "        #     different_disssimilarity.append(cosine_distance.item())"
   ]
  },
  {
   "cell_type": "code",
   "execution_count": null,
   "id": "a2712f9e",
   "metadata": {},
   "outputs": [],
   "source": [
    "# checking if there are any intersection in same and different images\n",
    "\n",
    "# intersection = []\n",
    "\n",
    "# for i in same_disssimilarity:\n",
    "#   if i > min(different_disssimilarity):\n",
    "#     intersection.append(i)\n",
    "# for j in different_disssimilarity:\n",
    "#   if j < max(same_disssimilarity):\n",
    "#     intersection.append(j)\n",
    "\n",
    "print(\"Number of total interesection: \", len(intersection(same_disssimilarity,different_disssimilarity)))"
   ]
  },
  {
   "cell_type": "code",
   "execution_count": null,
   "id": "6386da84-3b6f-48b2-9ba1-6fefc1af8024",
   "metadata": {
    "executionInfo": {
     "elapsed": 36,
     "status": "aborted",
     "timestamp": 1676059151584,
     "user": {
      "displayName": "Akshat Garg",
      "userId": "01526156287295178218"
     },
     "user_tz": 300
    },
    "id": "6386da84-3b6f-48b2-9ba1-6fefc1af8024"
   },
   "outputs": [],
   "source": [
    "# #### Original code\n",
    "\n",
    "# # Locate the test dataset and load it into the SiameseNetworkDataset\n",
    "# # folder_dataset_test = datasets.ImageFolder(root=\"./Test_auto_parts/\")\n",
    "# folder_dataset_test = datasets.ImageFolder(root=\"data/face_grey_new/test\")\n",
    "# siamese_dataset = SiameseNetworkDataset(imageFolderDataset=folder_dataset_test,\n",
    "#                                         transform=transformation)\n",
    "# test_dataloader = DataLoader(siamese_dataset, num_workers=0, batch_size=1, shuffle=True)\n",
    "\n",
    "\n",
    "\n",
    "\n",
    "# # Grab one image that we are going to test\n",
    "# dataiter = iter(test_dataloader)\n",
    "# x0, _, _ = next(dataiter)\n",
    "# # plt.figure()\n",
    "\n",
    "# for i in range(10):\n",
    "#     # Iterate over 5 images and test them with the first image (x0)\n",
    "#     _, x1, label2 = next(dataiter)\n",
    "\n",
    "#     # Concatenate the two images together\n",
    "#     concatenated = torch.cat((x0, x1), 0)\n",
    "    \n",
    "#     output1, output2 = net(x0.cuda(), x1.cuda())\n",
    "#     euclidean_distance = F.pairwise_distance(output1, output2)\n",
    "#     imshow(torchvision.utils.make_grid(concatenated), f'Dissimilarity: {euclidean_distance.item():.2f}')"
   ]
  },
  {
   "cell_type": "code",
   "execution_count": null,
   "id": "553a9834-ffea-48d6-8dd3-8574ac410663",
   "metadata": {
    "executionInfo": {
     "elapsed": 36,
     "status": "aborted",
     "timestamp": 1676059151584,
     "user": {
      "displayName": "Akshat Garg",
      "userId": "01526156287295178218"
     },
     "user_tz": 300
    },
    "id": "553a9834-ffea-48d6-8dd3-8574ac410663"
   },
   "outputs": [],
   "source": [
    "# ### ALWAYS WORKS\n",
    "\n",
    "# # %matplotlib widget\n",
    "# # Create a simple dataloader just for simple visualization\n",
    "# folder_dataset_test = datasets.ImageFolder(root=\"data/face_grey_new/test\")\n",
    "# siamese_dataset = SiameseNetworkDataset(imageFolderDataset=folder_dataset_test,\n",
    "#                                         transform=transformation)\n",
    "# vis_dataloader = DataLoader(siamese_dataset,\n",
    "#                         shuffle=True,\n",
    "#                         num_workers=0, # Number of CPU to engage\n",
    "#                         batch_size=1)\n",
    "\n",
    "# for i in range(1):\n",
    "#     # Extract one batch\n",
    "#     example_batch = next(iter(vis_dataloader))\n",
    "#     x0, X1, label1=example_batch\n",
    "\n",
    "#     # Example batch is a list containing 2x8 images, indexes 0 and 1, an also the label\n",
    "#     # If the label is 1, it means that it is not the same person, label is 0, same person in both images\n",
    "#     concatenated = torch.cat((example_batch[0], example_batch[1]),0)\n",
    "\n",
    "#     imshow(torchvision.utils.make_grid(concatenated))\n",
    "#     print(example_batch[2].numpy().reshape(-1))\n",
    "#     print(label1)"
   ]
  },
  {
   "cell_type": "code",
   "execution_count": null,
   "id": "469d5de0-7504-4ffe-aa64-50091015aeae",
   "metadata": {
    "executionInfo": {
     "elapsed": 36,
     "status": "aborted",
     "timestamp": 1676059151584,
     "user": {
      "displayName": "Akshat Garg",
      "userId": "01526156287295178218"
     },
     "user_tz": 300
    },
    "id": "469d5de0-7504-4ffe-aa64-50091015aeae"
   },
   "outputs": [],
   "source": [
    "# # Locate the test dataset and load it into the SiameseNetworkDataset\n",
    "# # folder_dataset_test = datasets.ImageFolder(root=\"./Test_auto_parts/\")\n",
    "# folder_dataset_test = datasets.ImageFolder(root=\"data/face_grey_new/test\")\n",
    "# siamese_dataset_test = SiameseNetworkDataset(imageFolderDataset=folder_dataset_test,\n",
    "#                                         transform=transformation)\n",
    "# test_dataloader = DataLoader(siamese_dataset_test, num_workers=2, batch_size=1, shuffle=True)\n",
    "\n",
    "# # Grab one image that we are going to test\n",
    "# truth=[]\n",
    "# predict=[]\n",
    "# same_disssimilarity=[]\n",
    "# different_disssimilarity=[]\n",
    "\n",
    "# for i in range(100):\n",
    "#     example_batch = next(iter(test_dataloader))\n",
    "\n",
    "\n",
    "#     # Concatenate the two images together\n",
    "\n",
    "#     concatenated = torch.cat((example_batch[0], example_batch[1]),0)\n",
    "\n",
    "\n",
    "#     output1, output2 = net(example_batch[0].cuda(), example_batch[1].cuda())\n",
    "#     euclidean_distance = F.pairwise_distance(output1, output2)\n",
    "# #     imshow(torchvision.utils.make_grid(concatenated), f'Dissimilarity: {euclidean_distance.item():.2f}')\n",
    "# #     print(example_batch[2].numpy().reshape(-1))\n",
    "#     truth.append(example_batch[2].numpy().reshape(-1).item())\n",
    "#     predict.append(euclidean_distance.item())\n",
    "#     if truth[i]==0:\n",
    "#         same_disssimilarity.append(euclidean_distance.item())\n",
    "#     if truth[i]==1:\n",
    "#         different_disssimilarity.append(euclidean_distance.item())"
   ]
  },
  {
   "cell_type": "code",
   "execution_count": null,
   "id": "a05a4ba4-60ff-4f4e-8564-b228bdfbb657",
   "metadata": {
    "executionInfo": {
     "elapsed": 37,
     "status": "aborted",
     "timestamp": 1676059151585,
     "user": {
      "displayName": "Akshat Garg",
      "userId": "01526156287295178218"
     },
     "user_tz": 300
    },
    "id": "a05a4ba4-60ff-4f4e-8564-b228bdfbb657"
   },
   "outputs": [],
   "source": [
    "# Plotting the distribution for same vs dissimilar images density plot\n",
    "\n",
    "%matplotlib widget\n",
    "import seaborn as sns\n",
    "import matplotlib.pyplot as plt\n",
    "\n",
    "# Set custom color palette\n",
    "colors = [\"#E74C3C\", \"#3498DB\"]\n",
    "\n",
    "# Create figure and axes objects\n",
    "fig, ax = plt.subplots(figsize=(8, 6))\n",
    "\n",
    "# Set background color\n",
    "ax.set_facecolor(\"#F7F7F7\")\n",
    "\n",
    "# Plot the distributions and set custom colors\n",
    "sns.distplot(same_disssimilarity, bins=100, kde=True, hist=False, rug=False, label=\"Same\", color=colors[0])\n",
    "sns.distplot(different_disssimilarity, bins=100, kde=True, hist=False, rug=False, label=\"Different\", color=colors[1])\n",
    "\n",
    "# Add legend and title\n",
    "plt.legend(fontsize=14)\n",
    "plt.title('Density vs Dissimilarity for euclidean distance', fontsize=20)\n",
    "\n",
    "# Add gridlines\n",
    "ax.grid(linestyle='--', linewidth=0.5)\n",
    "\n",
    "# Set axis labels and tick sizes\n",
    "plt.xlabel(\"Dissimilarity\", fontsize=16)\n",
    "plt.ylabel(\"Density\", fontsize=16)\n",
    "plt.xticks(fontsize=14)\n",
    "plt.yticks(fontsize=14)\n",
    "\n",
    "# Remove top and right spines\n",
    "sns.despine(top=True, right=True)\n",
    "\n",
    "plt.show()"
   ]
  },
  {
   "cell_type": "code",
   "execution_count": null,
   "id": "48eef8fa-1b79-499c-91e4-3fd181d1b524",
   "metadata": {
    "executionInfo": {
     "elapsed": 38,
     "status": "aborted",
     "timestamp": 1676059151586,
     "user": {
      "displayName": "Akshat Garg",
      "userId": "01526156287295178218"
     },
     "user_tz": 300
    },
    "id": "48eef8fa-1b79-499c-91e4-3fd181d1b524"
   },
   "outputs": [],
   "source": [
    "# checking for mean/average score\n",
    "\n",
    "from statistics import mean\n",
    "print(\"Mean of same images: \",mean(same_disssimilarity))\n",
    "print(\"Mean of different images: \",mean(different_disssimilarity))"
   ]
  },
  {
   "cell_type": "code",
   "execution_count": null,
   "id": "de9cc18e",
   "metadata": {},
   "outputs": [],
   "source": [
    "# Prinitng total number of combinations that we tested on\n",
    "\n",
    "print(\"Total number of combinations of same images: \", len(same_disssimilarity))\n",
    "print(\"Total number of combinations of different images: \", len(different_disssimilarity))\n",
    "print(\"Total number of combinations: \", len(same_disssimilarity) + len(different_disssimilarity))"
   ]
  },
  {
   "cell_type": "code",
   "execution_count": null,
   "id": "dc2a3ab5",
   "metadata": {},
   "outputs": [],
   "source": [
    "# Checking for number of missclassified images\n",
    "\n",
    "final_list = []\n",
    "same_misclassified = []\n",
    "different_misclassified = []\n",
    "score = 0.3\n",
    "for s in same_disssimilarity:\n",
    "    if s > score:\n",
    "        final_list.append(s)\n",
    "        same_misclassified.append(s)\n",
    "for d in different_disssimilarity:\n",
    "    if d <= score:\n",
    "        final_list.append(d)\n",
    "        different_misclassified.append(d)\n",
    "\n",
    "print(len(final_list))\n",
    "print(len(same_misclassified))\n",
    "print(len(different_misclassified))"
   ]
  },
  {
   "cell_type": "code",
   "execution_count": null,
   "id": "57063183",
   "metadata": {},
   "outputs": [],
   "source": [
    "# import seaborn as sns\n",
    "# sns.distplot(intersection, bins=100, kde=True,hist=True, rug=True, label=\"intersection\");\n",
    "# plt.legend()\n",
    "# plt.xlabel(\"Dissimilarity\")\n",
    "# plt.show()"
   ]
  },
  {
   "cell_type": "code",
   "execution_count": null,
   "id": "182c8a3c-0d4b-4a9b-bb0c-868805e2adee",
   "metadata": {
    "executionInfo": {
     "elapsed": 38,
     "status": "aborted",
     "timestamp": 1676059151586,
     "user": {
      "displayName": "Akshat Garg",
      "userId": "01526156287295178218"
     },
     "user_tz": 300
    },
    "id": "182c8a3c-0d4b-4a9b-bb0c-868805e2adee"
   },
   "outputs": [],
   "source": [
    "# folder_dataset_test = datasets.ImageFolder(root=\"./data/faces/train\")\n",
    "# siamese_dataset_test = SiameseNetworkDataset(imageFolderDataset=folder_dataset_test,\n",
    "#                                         transform=transformation)\n",
    "# test_dataloader = DataLoader(siamese_dataset_test, num_workers=2, batch_size=1, shuffle=True)\n",
    "\n",
    "# # Grab one image that we are going to test\n",
    "# truth2=[]\n",
    "# predict2=[]\n",
    "# same_disssimilarity2=[]\n",
    "# different_disssimilarity2=[]\n",
    "\n",
    "# for i in range(100):\n",
    "#     example_batch = next(iter(test_dataloader))\n",
    "\n",
    "\n",
    "#     # Concatenate the two images together\n",
    "\n",
    "#     concatenated = torch.cat((example_batch[0], example_batch[1]),0)\n",
    "\n",
    "\n",
    "#     output1, output2 = net(example_batch[0].cuda(), example_batch[1].cuda())\n",
    "#     euclidean_distance = F.pairwise_distance(output1, output2)\n",
    "# #     imshow(torchvision.utils.make_grid(concatenated), f'Dissimilarity: {euclidean_distance.item():.2f}')\n",
    "# #     print(example_batch[2].numpy().reshape(-1))\n",
    "#     truth2.append(example_batch[2].numpy().reshape(-1).item())\n",
    "#     predict2.append(euclidean_distance.item())\n",
    "#     if truth2[i]==0:\n",
    "#         same_disssimilarity2.append(euclidean_distance.item())\n",
    "#     if truth2[i]==1:\n",
    "#         different_disssimilarity2.append(euclidean_distance.item())"
   ]
  },
  {
   "cell_type": "code",
   "execution_count": null,
   "id": "db710fd2-6c9b-430f-99a5-e10e801b8235",
   "metadata": {
    "executionInfo": {
     "elapsed": 37,
     "status": "aborted",
     "timestamp": 1676059151587,
     "user": {
      "displayName": "Akshat Garg",
      "userId": "01526156287295178218"
     },
     "user_tz": 300
    },
    "id": "db710fd2-6c9b-430f-99a5-e10e801b8235"
   },
   "outputs": [],
   "source": []
  },
  {
   "cell_type": "code",
   "execution_count": null,
   "id": "8786d853-f4b0-4fac-baed-fe3bf91ca958",
   "metadata": {
    "executionInfo": {
     "elapsed": 37,
     "status": "aborted",
     "timestamp": 1676059151587,
     "user": {
      "displayName": "Akshat Garg",
      "userId": "01526156287295178218"
     },
     "user_tz": 300
    },
    "id": "8786d853-f4b0-4fac-baed-fe3bf91ca958"
   },
   "outputs": [],
   "source": []
  },
  {
   "cell_type": "code",
   "execution_count": null,
   "id": "16f6df99-61b9-4d9c-ad07-f9c532670209",
   "metadata": {
    "executionInfo": {
     "elapsed": 39,
     "status": "aborted",
     "timestamp": 1676059151589,
     "user": {
      "displayName": "Akshat Garg",
      "userId": "01526156287295178218"
     },
     "user_tz": 300
    },
    "id": "16f6df99-61b9-4d9c-ad07-f9c532670209"
   },
   "outputs": [],
   "source": []
  },
  {
   "cell_type": "code",
   "execution_count": null,
   "id": "40c828fb-f635-4128-8478-9719c631cfce",
   "metadata": {
    "executionInfo": {
     "elapsed": 40,
     "status": "aborted",
     "timestamp": 1676059151590,
     "user": {
      "displayName": "Akshat Garg",
      "userId": "01526156287295178218"
     },
     "user_tz": 300
    },
    "id": "40c828fb-f635-4128-8478-9719c631cfce"
   },
   "outputs": [],
   "source": []
  }
 ],
 "metadata": {
  "accelerator": "GPU",
  "colab": {
   "provenance": []
  },
  "gpuClass": "standard",
  "kernelspec": {
   "display_name": "base",
   "language": "python",
   "name": "python3"
  },
  "language_info": {
   "codemirror_mode": {
    "name": "ipython",
    "version": 3
   },
   "file_extension": ".py",
   "mimetype": "text/x-python",
   "name": "python",
   "nbconvert_exporter": "python",
   "pygments_lexer": "ipython3",
   "version": "3.9.15"
  },
  "vscode": {
   "interpreter": {
    "hash": "1ff262b1c30271cc97db05e41bc3fbf8dcb2f3d49b2a4289d3b890287f11ec8d"
   }
  }
 },
 "nbformat": 4,
 "nbformat_minor": 5
}
